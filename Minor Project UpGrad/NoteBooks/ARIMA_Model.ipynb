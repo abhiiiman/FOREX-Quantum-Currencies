{
  "nbformat": 4,
  "nbformat_minor": 0,
  "metadata": {
    "colab": {
      "provenance": []
    },
    "kernelspec": {
      "name": "python3",
      "display_name": "Python 3"
    },
    "language_info": {
      "name": "python"
    },
    "widgets": {
      "application/vnd.jupyter.widget-state+json": {
        "be1f8f184a1a4518b68bd5606460c14e": {
          "model_module": "@jupyter-widgets/controls",
          "model_name": "HBoxModel",
          "model_module_version": "1.5.0",
          "state": {
            "_dom_classes": [],
            "_model_module": "@jupyter-widgets/controls",
            "_model_module_version": "1.5.0",
            "_model_name": "HBoxModel",
            "_view_count": null,
            "_view_module": "@jupyter-widgets/controls",
            "_view_module_version": "1.5.0",
            "_view_name": "HBoxView",
            "box_style": "",
            "children": [
              "IPY_MODEL_e28c3f5b98cc422397d60582a0194449",
              "IPY_MODEL_18196827c3f643c79d6acf98b6e841a1",
              "IPY_MODEL_f4c2b5d90c174bc38f2420e5bf4c1b88"
            ],
            "layout": "IPY_MODEL_8e11b014977a4b77aa390bfacacbb931"
          }
        },
        "e28c3f5b98cc422397d60582a0194449": {
          "model_module": "@jupyter-widgets/controls",
          "model_name": "HTMLModel",
          "model_module_version": "1.5.0",
          "state": {
            "_dom_classes": [],
            "_model_module": "@jupyter-widgets/controls",
            "_model_module_version": "1.5.0",
            "_model_name": "HTMLModel",
            "_view_count": null,
            "_view_module": "@jupyter-widgets/controls",
            "_view_module_version": "1.5.0",
            "_view_name": "HTMLView",
            "description": "",
            "description_tooltip": null,
            "layout": "IPY_MODEL_9ab62bb1d34a42c39d47f482b060ce41",
            "placeholder": "​",
            "style": "IPY_MODEL_6f20b3071e7d4c0d9b68215620a2ab7a",
            "value": "Best score: 2.2186361620537376: 100%"
          }
        },
        "18196827c3f643c79d6acf98b6e841a1": {
          "model_module": "@jupyter-widgets/controls",
          "model_name": "FloatProgressModel",
          "model_module_version": "1.5.0",
          "state": {
            "_dom_classes": [],
            "_model_module": "@jupyter-widgets/controls",
            "_model_module_version": "1.5.0",
            "_model_name": "FloatProgressModel",
            "_view_count": null,
            "_view_module": "@jupyter-widgets/controls",
            "_view_module_version": "1.5.0",
            "_view_name": "ProgressView",
            "bar_style": "success",
            "description": "",
            "description_tooltip": null,
            "layout": "IPY_MODEL_927d83ebfed040909b248b29125dd2ca",
            "max": 100,
            "min": 0,
            "orientation": "horizontal",
            "style": "IPY_MODEL_cf1a387071f34af6b187d56d7570d845",
            "value": 100
          }
        },
        "f4c2b5d90c174bc38f2420e5bf4c1b88": {
          "model_module": "@jupyter-widgets/controls",
          "model_name": "HTMLModel",
          "model_module_version": "1.5.0",
          "state": {
            "_dom_classes": [],
            "_model_module": "@jupyter-widgets/controls",
            "_model_module_version": "1.5.0",
            "_model_name": "HTMLModel",
            "_view_count": null,
            "_view_module": "@jupyter-widgets/controls",
            "_view_module_version": "1.5.0",
            "_view_name": "HTMLView",
            "description": "",
            "description_tooltip": null,
            "layout": "IPY_MODEL_4f7b3d4211a64fa0aa0cf4f2eb801350",
            "placeholder": "​",
            "style": "IPY_MODEL_a4ac974f2a8a4b0dbe3e2cc46780b907",
            "value": " 100/100 [02:29&lt;00:00,  1.60s/it]"
          }
        },
        "8e11b014977a4b77aa390bfacacbb931": {
          "model_module": "@jupyter-widgets/base",
          "model_name": "LayoutModel",
          "model_module_version": "1.2.0",
          "state": {
            "_model_module": "@jupyter-widgets/base",
            "_model_module_version": "1.2.0",
            "_model_name": "LayoutModel",
            "_view_count": null,
            "_view_module": "@jupyter-widgets/base",
            "_view_module_version": "1.2.0",
            "_view_name": "LayoutView",
            "align_content": null,
            "align_items": null,
            "align_self": null,
            "border": null,
            "bottom": null,
            "display": null,
            "flex": null,
            "flex_flow": null,
            "grid_area": null,
            "grid_auto_columns": null,
            "grid_auto_flow": null,
            "grid_auto_rows": null,
            "grid_column": null,
            "grid_gap": null,
            "grid_row": null,
            "grid_template_areas": null,
            "grid_template_columns": null,
            "grid_template_rows": null,
            "height": null,
            "justify_content": null,
            "justify_items": null,
            "left": null,
            "margin": null,
            "max_height": null,
            "max_width": null,
            "min_height": null,
            "min_width": null,
            "object_fit": null,
            "object_position": null,
            "order": null,
            "overflow": null,
            "overflow_x": null,
            "overflow_y": null,
            "padding": null,
            "right": null,
            "top": null,
            "visibility": null,
            "width": null
          }
        },
        "9ab62bb1d34a42c39d47f482b060ce41": {
          "model_module": "@jupyter-widgets/base",
          "model_name": "LayoutModel",
          "model_module_version": "1.2.0",
          "state": {
            "_model_module": "@jupyter-widgets/base",
            "_model_module_version": "1.2.0",
            "_model_name": "LayoutModel",
            "_view_count": null,
            "_view_module": "@jupyter-widgets/base",
            "_view_module_version": "1.2.0",
            "_view_name": "LayoutView",
            "align_content": null,
            "align_items": null,
            "align_self": null,
            "border": null,
            "bottom": null,
            "display": null,
            "flex": null,
            "flex_flow": null,
            "grid_area": null,
            "grid_auto_columns": null,
            "grid_auto_flow": null,
            "grid_auto_rows": null,
            "grid_column": null,
            "grid_gap": null,
            "grid_row": null,
            "grid_template_areas": null,
            "grid_template_columns": null,
            "grid_template_rows": null,
            "height": null,
            "justify_content": null,
            "justify_items": null,
            "left": null,
            "margin": null,
            "max_height": null,
            "max_width": null,
            "min_height": null,
            "min_width": null,
            "object_fit": null,
            "object_position": null,
            "order": null,
            "overflow": null,
            "overflow_x": null,
            "overflow_y": null,
            "padding": null,
            "right": null,
            "top": null,
            "visibility": null,
            "width": null
          }
        },
        "6f20b3071e7d4c0d9b68215620a2ab7a": {
          "model_module": "@jupyter-widgets/controls",
          "model_name": "DescriptionStyleModel",
          "model_module_version": "1.5.0",
          "state": {
            "_model_module": "@jupyter-widgets/controls",
            "_model_module_version": "1.5.0",
            "_model_name": "DescriptionStyleModel",
            "_view_count": null,
            "_view_module": "@jupyter-widgets/base",
            "_view_module_version": "1.2.0",
            "_view_name": "StyleView",
            "description_width": ""
          }
        },
        "927d83ebfed040909b248b29125dd2ca": {
          "model_module": "@jupyter-widgets/base",
          "model_name": "LayoutModel",
          "model_module_version": "1.2.0",
          "state": {
            "_model_module": "@jupyter-widgets/base",
            "_model_module_version": "1.2.0",
            "_model_name": "LayoutModel",
            "_view_count": null,
            "_view_module": "@jupyter-widgets/base",
            "_view_module_version": "1.2.0",
            "_view_name": "LayoutView",
            "align_content": null,
            "align_items": null,
            "align_self": null,
            "border": null,
            "bottom": null,
            "display": null,
            "flex": null,
            "flex_flow": null,
            "grid_area": null,
            "grid_auto_columns": null,
            "grid_auto_flow": null,
            "grid_auto_rows": null,
            "grid_column": null,
            "grid_gap": null,
            "grid_row": null,
            "grid_template_areas": null,
            "grid_template_columns": null,
            "grid_template_rows": null,
            "height": null,
            "justify_content": null,
            "justify_items": null,
            "left": null,
            "margin": null,
            "max_height": null,
            "max_width": null,
            "min_height": null,
            "min_width": null,
            "object_fit": null,
            "object_position": null,
            "order": null,
            "overflow": null,
            "overflow_x": null,
            "overflow_y": null,
            "padding": null,
            "right": null,
            "top": null,
            "visibility": null,
            "width": null
          }
        },
        "cf1a387071f34af6b187d56d7570d845": {
          "model_module": "@jupyter-widgets/controls",
          "model_name": "ProgressStyleModel",
          "model_module_version": "1.5.0",
          "state": {
            "_model_module": "@jupyter-widgets/controls",
            "_model_module_version": "1.5.0",
            "_model_name": "ProgressStyleModel",
            "_view_count": null,
            "_view_module": "@jupyter-widgets/base",
            "_view_module_version": "1.2.0",
            "_view_name": "StyleView",
            "bar_color": null,
            "description_width": ""
          }
        },
        "4f7b3d4211a64fa0aa0cf4f2eb801350": {
          "model_module": "@jupyter-widgets/base",
          "model_name": "LayoutModel",
          "model_module_version": "1.2.0",
          "state": {
            "_model_module": "@jupyter-widgets/base",
            "_model_module_version": "1.2.0",
            "_model_name": "LayoutModel",
            "_view_count": null,
            "_view_module": "@jupyter-widgets/base",
            "_view_module_version": "1.2.0",
            "_view_name": "LayoutView",
            "align_content": null,
            "align_items": null,
            "align_self": null,
            "border": null,
            "bottom": null,
            "display": null,
            "flex": null,
            "flex_flow": null,
            "grid_area": null,
            "grid_auto_columns": null,
            "grid_auto_flow": null,
            "grid_auto_rows": null,
            "grid_column": null,
            "grid_gap": null,
            "grid_row": null,
            "grid_template_areas": null,
            "grid_template_columns": null,
            "grid_template_rows": null,
            "height": null,
            "justify_content": null,
            "justify_items": null,
            "left": null,
            "margin": null,
            "max_height": null,
            "max_width": null,
            "min_height": null,
            "min_width": null,
            "object_fit": null,
            "object_position": null,
            "order": null,
            "overflow": null,
            "overflow_x": null,
            "overflow_y": null,
            "padding": null,
            "right": null,
            "top": null,
            "visibility": null,
            "width": null
          }
        },
        "a4ac974f2a8a4b0dbe3e2cc46780b907": {
          "model_module": "@jupyter-widgets/controls",
          "model_name": "DescriptionStyleModel",
          "model_module_version": "1.5.0",
          "state": {
            "_model_module": "@jupyter-widgets/controls",
            "_model_module_version": "1.5.0",
            "_model_name": "DescriptionStyleModel",
            "_view_count": null,
            "_view_module": "@jupyter-widgets/base",
            "_view_module_version": "1.2.0",
            "_view_name": "StyleView",
            "description_width": ""
          }
        }
      }
    }
  },
  "cells": [
    {
      "cell_type": "code",
      "execution_count": 1,
      "metadata": {
        "id": "3mG7vwkaP2_j"
      },
      "outputs": [],
      "source": [
        "import pandas as pd\n",
        "import numpy as np\n",
        "\n",
        "import seaborn as sns\n",
        "import matplotlib.pyplot as plt"
      ]
    },
    {
      "cell_type": "code",
      "source": [
        "import warnings\n",
        "warnings.filterwarnings('ignore')"
      ],
      "metadata": {
        "id": "VPK8Km5jStLP"
      },
      "execution_count": 2,
      "outputs": []
    },
    {
      "cell_type": "code",
      "source": [
        "df = pd.read_csv('quarterly_imputed.csv')"
      ],
      "metadata": {
        "id": "KLjDf4P6ch0u"
      },
      "execution_count": 3,
      "outputs": []
    },
    {
      "cell_type": "code",
      "source": [
        "df.info()"
      ],
      "metadata": {
        "colab": {
          "base_uri": "https://localhost:8080/"
        },
        "id": "Z5-JMtaycp-a",
        "outputId": "114efd36-5763-402b-e363-f91c24790730"
      },
      "execution_count": 4,
      "outputs": [
        {
          "output_type": "stream",
          "name": "stdout",
          "text": [
            "<class 'pandas.core.frame.DataFrame'>\n",
            "RangeIndex: 63 entries, 0 to 62\n",
            "Columns: 222 entries, Date_Quarter to ZIMBABWE\n",
            "dtypes: float64(221), object(1)\n",
            "memory usage: 109.4+ KB\n"
          ]
        }
      ]
    },
    {
      "cell_type": "markdown",
      "source": [
        "Dropping the Unnamed"
      ],
      "metadata": {
        "id": "6jSNlNWzfkWG"
      }
    },
    {
      "cell_type": "code",
      "source": [
        "# df = df.drop('Unnamed: 0', axis=1)"
      ],
      "metadata": {
        "id": "Kpeg1m_zfjus"
      },
      "execution_count": null,
      "outputs": []
    },
    {
      "cell_type": "code",
      "source": [
        "df"
      ],
      "metadata": {
        "colab": {
          "base_uri": "https://localhost:8080/",
          "height": 456
        },
        "id": "PilgL2Hmfuge",
        "outputId": "f8820a3a-c836-4982-9faa-7a90f2da4e01"
      },
      "execution_count": 5,
      "outputs": [
        {
          "output_type": "execute_result",
          "data": {
            "text/plain": [
              "   Date_Quarter  AFGHANISTAN  ALBANIA  ALGERIA   ANGOLA  ANTIGUA-BARBUDA  \\\n",
              "0    2001-01-01     78400.00   142.40   76.539   19.706              2.7   \n",
              "1    2001-05-01     73000.00   149.00   78.101   19.706              2.7   \n",
              "2    2001-09-01     71500.00   142.00   76.429   20.389              2.7   \n",
              "3    2001-12-01     38200.00   136.30   78.078   30.044              2.7   \n",
              "4    2002-01-01     35000.00   139.81   78.319   34.320              2.7   \n",
              "..          ...          ...      ...      ...      ...              ...   \n",
              "58   2015-09-01        63.80   123.99  105.739  145.000              2.7   \n",
              "59   2015-12-01        67.90   125.54  106.878  145.000              2.7   \n",
              "60   2016-01-01        68.45   121.35  108.301  160.000              2.7   \n",
              "61   2016-05-01        68.22   123.16  109.866  170.000              2.7   \n",
              "62   2016-09-01        65.35   122.77  109.350  170.000              2.7   \n",
              "\n",
              "    ARGENTINA  ARMENIA  AUSTRALIA  AUSTRIA  ...  UZBEKISTAN  VANUATU  \\\n",
              "0       1.000   550.00      1.903    1.083  ...       793.5   142.45   \n",
              "1       1.000   554.68      1.979    1.181  ...       793.5   145.89   \n",
              "2       1.000   557.00      1.894    1.100  ...       850.0   145.89   \n",
              "3       1.000   565.00      1.955    1.122  ...       890.0   145.89   \n",
              "4       2.080   566.00      1.935    1.153  ...       960.0   145.89   \n",
              "..        ...      ...        ...      ...  ...         ...      ...   \n",
              "58      9.420   475.00      1.423    0.892  ...      2664.0   110.24   \n",
              "59     12.946   484.00      1.368    0.919  ...      2857.0   108.55   \n",
              "60     14.593   480.00      1.298    0.878  ...      2925.0   104.37   \n",
              "61     14.951   480.00      1.344    0.900  ...      2993.0   109.10   \n",
              "62     15.350   474.00      1.313    0.896  ...      3061.0   105.09   \n",
              "\n",
              "    VENEZUELA  VIETNAM  WESTERN SAMOA  YEMEN  YUGOSLAVIA  ZAMBIA  ZAMBIA.1  \\\n",
              "0      704.00  14562.0          3.280  165.0     64.8000  3520.0   21.5252   \n",
              "1      714.00  14659.0          3.280  168.0     63.3102  3420.0   29.4134   \n",
              "2      736.00  14991.0          3.344  170.0     65.5330  3570.0   57.7216   \n",
              "3      757.00  15081.0          3.496  173.0     65.5330  3735.0   74.8046   \n",
              "4     1015.00  15139.0          3.484  173.0     66.7960  4300.0   71.8046   \n",
              "..        ...      ...            ...    ...         ...     ...       ...   \n",
              "58       6.30  22475.0          2.584  214.5    102.7278  5455.0   12.1150   \n",
              "59       6.30  22480.0          2.502  214.5    103.0056  5455.0   10.9900   \n",
              "60     270.47  22286.0          2.470  214.5    103.9202  5455.0   11.0300   \n",
              "61     626.01  22281.0          2.462  250.5    105.3232  5455.0    9.8000   \n",
              "62     657.55  22303.0          2.433  250.5    105.3440  5455.0   10.0150   \n",
              "\n",
              "    ZIMBABWE  \n",
              "0       80.0  \n",
              "1      118.0  \n",
              "2      260.0  \n",
              "3      345.0  \n",
              "4      330.0  \n",
              "..       ...  \n",
              "58       1.0  \n",
              "59       1.0  \n",
              "60       1.0  \n",
              "61       1.0  \n",
              "62       1.0  \n",
              "\n",
              "[63 rows x 222 columns]"
            ],
            "text/html": [
              "\n",
              "  <div id=\"df-07d80c24-3ee1-43ad-a814-1da02241f859\" class=\"colab-df-container\">\n",
              "    <div>\n",
              "<style scoped>\n",
              "    .dataframe tbody tr th:only-of-type {\n",
              "        vertical-align: middle;\n",
              "    }\n",
              "\n",
              "    .dataframe tbody tr th {\n",
              "        vertical-align: top;\n",
              "    }\n",
              "\n",
              "    .dataframe thead th {\n",
              "        text-align: right;\n",
              "    }\n",
              "</style>\n",
              "<table border=\"1\" class=\"dataframe\">\n",
              "  <thead>\n",
              "    <tr style=\"text-align: right;\">\n",
              "      <th></th>\n",
              "      <th>Date_Quarter</th>\n",
              "      <th>AFGHANISTAN</th>\n",
              "      <th>ALBANIA</th>\n",
              "      <th>ALGERIA</th>\n",
              "      <th>ANGOLA</th>\n",
              "      <th>ANTIGUA-BARBUDA</th>\n",
              "      <th>ARGENTINA</th>\n",
              "      <th>ARMENIA</th>\n",
              "      <th>AUSTRALIA</th>\n",
              "      <th>AUSTRIA</th>\n",
              "      <th>...</th>\n",
              "      <th>UZBEKISTAN</th>\n",
              "      <th>VANUATU</th>\n",
              "      <th>VENEZUELA</th>\n",
              "      <th>VIETNAM</th>\n",
              "      <th>WESTERN SAMOA</th>\n",
              "      <th>YEMEN</th>\n",
              "      <th>YUGOSLAVIA</th>\n",
              "      <th>ZAMBIA</th>\n",
              "      <th>ZAMBIA.1</th>\n",
              "      <th>ZIMBABWE</th>\n",
              "    </tr>\n",
              "  </thead>\n",
              "  <tbody>\n",
              "    <tr>\n",
              "      <th>0</th>\n",
              "      <td>2001-01-01</td>\n",
              "      <td>78400.00</td>\n",
              "      <td>142.40</td>\n",
              "      <td>76.539</td>\n",
              "      <td>19.706</td>\n",
              "      <td>2.7</td>\n",
              "      <td>1.000</td>\n",
              "      <td>550.00</td>\n",
              "      <td>1.903</td>\n",
              "      <td>1.083</td>\n",
              "      <td>...</td>\n",
              "      <td>793.5</td>\n",
              "      <td>142.45</td>\n",
              "      <td>704.00</td>\n",
              "      <td>14562.0</td>\n",
              "      <td>3.280</td>\n",
              "      <td>165.0</td>\n",
              "      <td>64.8000</td>\n",
              "      <td>3520.0</td>\n",
              "      <td>21.5252</td>\n",
              "      <td>80.0</td>\n",
              "    </tr>\n",
              "    <tr>\n",
              "      <th>1</th>\n",
              "      <td>2001-05-01</td>\n",
              "      <td>73000.00</td>\n",
              "      <td>149.00</td>\n",
              "      <td>78.101</td>\n",
              "      <td>19.706</td>\n",
              "      <td>2.7</td>\n",
              "      <td>1.000</td>\n",
              "      <td>554.68</td>\n",
              "      <td>1.979</td>\n",
              "      <td>1.181</td>\n",
              "      <td>...</td>\n",
              "      <td>793.5</td>\n",
              "      <td>145.89</td>\n",
              "      <td>714.00</td>\n",
              "      <td>14659.0</td>\n",
              "      <td>3.280</td>\n",
              "      <td>168.0</td>\n",
              "      <td>63.3102</td>\n",
              "      <td>3420.0</td>\n",
              "      <td>29.4134</td>\n",
              "      <td>118.0</td>\n",
              "    </tr>\n",
              "    <tr>\n",
              "      <th>2</th>\n",
              "      <td>2001-09-01</td>\n",
              "      <td>71500.00</td>\n",
              "      <td>142.00</td>\n",
              "      <td>76.429</td>\n",
              "      <td>20.389</td>\n",
              "      <td>2.7</td>\n",
              "      <td>1.000</td>\n",
              "      <td>557.00</td>\n",
              "      <td>1.894</td>\n",
              "      <td>1.100</td>\n",
              "      <td>...</td>\n",
              "      <td>850.0</td>\n",
              "      <td>145.89</td>\n",
              "      <td>736.00</td>\n",
              "      <td>14991.0</td>\n",
              "      <td>3.344</td>\n",
              "      <td>170.0</td>\n",
              "      <td>65.5330</td>\n",
              "      <td>3570.0</td>\n",
              "      <td>57.7216</td>\n",
              "      <td>260.0</td>\n",
              "    </tr>\n",
              "    <tr>\n",
              "      <th>3</th>\n",
              "      <td>2001-12-01</td>\n",
              "      <td>38200.00</td>\n",
              "      <td>136.30</td>\n",
              "      <td>78.078</td>\n",
              "      <td>30.044</td>\n",
              "      <td>2.7</td>\n",
              "      <td>1.000</td>\n",
              "      <td>565.00</td>\n",
              "      <td>1.955</td>\n",
              "      <td>1.122</td>\n",
              "      <td>...</td>\n",
              "      <td>890.0</td>\n",
              "      <td>145.89</td>\n",
              "      <td>757.00</td>\n",
              "      <td>15081.0</td>\n",
              "      <td>3.496</td>\n",
              "      <td>173.0</td>\n",
              "      <td>65.5330</td>\n",
              "      <td>3735.0</td>\n",
              "      <td>74.8046</td>\n",
              "      <td>345.0</td>\n",
              "    </tr>\n",
              "    <tr>\n",
              "      <th>4</th>\n",
              "      <td>2002-01-01</td>\n",
              "      <td>35000.00</td>\n",
              "      <td>139.81</td>\n",
              "      <td>78.319</td>\n",
              "      <td>34.320</td>\n",
              "      <td>2.7</td>\n",
              "      <td>2.080</td>\n",
              "      <td>566.00</td>\n",
              "      <td>1.935</td>\n",
              "      <td>1.153</td>\n",
              "      <td>...</td>\n",
              "      <td>960.0</td>\n",
              "      <td>145.89</td>\n",
              "      <td>1015.00</td>\n",
              "      <td>15139.0</td>\n",
              "      <td>3.484</td>\n",
              "      <td>173.0</td>\n",
              "      <td>66.7960</td>\n",
              "      <td>4300.0</td>\n",
              "      <td>71.8046</td>\n",
              "      <td>330.0</td>\n",
              "    </tr>\n",
              "    <tr>\n",
              "      <th>...</th>\n",
              "      <td>...</td>\n",
              "      <td>...</td>\n",
              "      <td>...</td>\n",
              "      <td>...</td>\n",
              "      <td>...</td>\n",
              "      <td>...</td>\n",
              "      <td>...</td>\n",
              "      <td>...</td>\n",
              "      <td>...</td>\n",
              "      <td>...</td>\n",
              "      <td>...</td>\n",
              "      <td>...</td>\n",
              "      <td>...</td>\n",
              "      <td>...</td>\n",
              "      <td>...</td>\n",
              "      <td>...</td>\n",
              "      <td>...</td>\n",
              "      <td>...</td>\n",
              "      <td>...</td>\n",
              "      <td>...</td>\n",
              "      <td>...</td>\n",
              "    </tr>\n",
              "    <tr>\n",
              "      <th>58</th>\n",
              "      <td>2015-09-01</td>\n",
              "      <td>63.80</td>\n",
              "      <td>123.99</td>\n",
              "      <td>105.739</td>\n",
              "      <td>145.000</td>\n",
              "      <td>2.7</td>\n",
              "      <td>9.420</td>\n",
              "      <td>475.00</td>\n",
              "      <td>1.423</td>\n",
              "      <td>0.892</td>\n",
              "      <td>...</td>\n",
              "      <td>2664.0</td>\n",
              "      <td>110.24</td>\n",
              "      <td>6.30</td>\n",
              "      <td>22475.0</td>\n",
              "      <td>2.584</td>\n",
              "      <td>214.5</td>\n",
              "      <td>102.7278</td>\n",
              "      <td>5455.0</td>\n",
              "      <td>12.1150</td>\n",
              "      <td>1.0</td>\n",
              "    </tr>\n",
              "    <tr>\n",
              "      <th>59</th>\n",
              "      <td>2015-12-01</td>\n",
              "      <td>67.90</td>\n",
              "      <td>125.54</td>\n",
              "      <td>106.878</td>\n",
              "      <td>145.000</td>\n",
              "      <td>2.7</td>\n",
              "      <td>12.946</td>\n",
              "      <td>484.00</td>\n",
              "      <td>1.368</td>\n",
              "      <td>0.919</td>\n",
              "      <td>...</td>\n",
              "      <td>2857.0</td>\n",
              "      <td>108.55</td>\n",
              "      <td>6.30</td>\n",
              "      <td>22480.0</td>\n",
              "      <td>2.502</td>\n",
              "      <td>214.5</td>\n",
              "      <td>103.0056</td>\n",
              "      <td>5455.0</td>\n",
              "      <td>10.9900</td>\n",
              "      <td>1.0</td>\n",
              "    </tr>\n",
              "    <tr>\n",
              "      <th>60</th>\n",
              "      <td>2016-01-01</td>\n",
              "      <td>68.45</td>\n",
              "      <td>121.35</td>\n",
              "      <td>108.301</td>\n",
              "      <td>160.000</td>\n",
              "      <td>2.7</td>\n",
              "      <td>14.593</td>\n",
              "      <td>480.00</td>\n",
              "      <td>1.298</td>\n",
              "      <td>0.878</td>\n",
              "      <td>...</td>\n",
              "      <td>2925.0</td>\n",
              "      <td>104.37</td>\n",
              "      <td>270.47</td>\n",
              "      <td>22286.0</td>\n",
              "      <td>2.470</td>\n",
              "      <td>214.5</td>\n",
              "      <td>103.9202</td>\n",
              "      <td>5455.0</td>\n",
              "      <td>11.0300</td>\n",
              "      <td>1.0</td>\n",
              "    </tr>\n",
              "    <tr>\n",
              "      <th>61</th>\n",
              "      <td>2016-05-01</td>\n",
              "      <td>68.22</td>\n",
              "      <td>123.16</td>\n",
              "      <td>109.866</td>\n",
              "      <td>170.000</td>\n",
              "      <td>2.7</td>\n",
              "      <td>14.951</td>\n",
              "      <td>480.00</td>\n",
              "      <td>1.344</td>\n",
              "      <td>0.900</td>\n",
              "      <td>...</td>\n",
              "      <td>2993.0</td>\n",
              "      <td>109.10</td>\n",
              "      <td>626.01</td>\n",
              "      <td>22281.0</td>\n",
              "      <td>2.462</td>\n",
              "      <td>250.5</td>\n",
              "      <td>105.3232</td>\n",
              "      <td>5455.0</td>\n",
              "      <td>9.8000</td>\n",
              "      <td>1.0</td>\n",
              "    </tr>\n",
              "    <tr>\n",
              "      <th>62</th>\n",
              "      <td>2016-09-01</td>\n",
              "      <td>65.35</td>\n",
              "      <td>122.77</td>\n",
              "      <td>109.350</td>\n",
              "      <td>170.000</td>\n",
              "      <td>2.7</td>\n",
              "      <td>15.350</td>\n",
              "      <td>474.00</td>\n",
              "      <td>1.313</td>\n",
              "      <td>0.896</td>\n",
              "      <td>...</td>\n",
              "      <td>3061.0</td>\n",
              "      <td>105.09</td>\n",
              "      <td>657.55</td>\n",
              "      <td>22303.0</td>\n",
              "      <td>2.433</td>\n",
              "      <td>250.5</td>\n",
              "      <td>105.3440</td>\n",
              "      <td>5455.0</td>\n",
              "      <td>10.0150</td>\n",
              "      <td>1.0</td>\n",
              "    </tr>\n",
              "  </tbody>\n",
              "</table>\n",
              "<p>63 rows × 222 columns</p>\n",
              "</div>\n",
              "    <div class=\"colab-df-buttons\">\n",
              "\n",
              "  <div class=\"colab-df-container\">\n",
              "    <button class=\"colab-df-convert\" onclick=\"convertToInteractive('df-07d80c24-3ee1-43ad-a814-1da02241f859')\"\n",
              "            title=\"Convert this dataframe to an interactive table.\"\n",
              "            style=\"display:none;\">\n",
              "\n",
              "  <svg xmlns=\"http://www.w3.org/2000/svg\" height=\"24px\" viewBox=\"0 -960 960 960\">\n",
              "    <path d=\"M120-120v-720h720v720H120Zm60-500h600v-160H180v160Zm220 220h160v-160H400v160Zm0 220h160v-160H400v160ZM180-400h160v-160H180v160Zm440 0h160v-160H620v160ZM180-180h160v-160H180v160Zm440 0h160v-160H620v160Z\"/>\n",
              "  </svg>\n",
              "    </button>\n",
              "\n",
              "  <style>\n",
              "    .colab-df-container {\n",
              "      display:flex;\n",
              "      gap: 12px;\n",
              "    }\n",
              "\n",
              "    .colab-df-convert {\n",
              "      background-color: #E8F0FE;\n",
              "      border: none;\n",
              "      border-radius: 50%;\n",
              "      cursor: pointer;\n",
              "      display: none;\n",
              "      fill: #1967D2;\n",
              "      height: 32px;\n",
              "      padding: 0 0 0 0;\n",
              "      width: 32px;\n",
              "    }\n",
              "\n",
              "    .colab-df-convert:hover {\n",
              "      background-color: #E2EBFA;\n",
              "      box-shadow: 0px 1px 2px rgba(60, 64, 67, 0.3), 0px 1px 3px 1px rgba(60, 64, 67, 0.15);\n",
              "      fill: #174EA6;\n",
              "    }\n",
              "\n",
              "    .colab-df-buttons div {\n",
              "      margin-bottom: 4px;\n",
              "    }\n",
              "\n",
              "    [theme=dark] .colab-df-convert {\n",
              "      background-color: #3B4455;\n",
              "      fill: #D2E3FC;\n",
              "    }\n",
              "\n",
              "    [theme=dark] .colab-df-convert:hover {\n",
              "      background-color: #434B5C;\n",
              "      box-shadow: 0px 1px 3px 1px rgba(0, 0, 0, 0.15);\n",
              "      filter: drop-shadow(0px 1px 2px rgba(0, 0, 0, 0.3));\n",
              "      fill: #FFFFFF;\n",
              "    }\n",
              "  </style>\n",
              "\n",
              "    <script>\n",
              "      const buttonEl =\n",
              "        document.querySelector('#df-07d80c24-3ee1-43ad-a814-1da02241f859 button.colab-df-convert');\n",
              "      buttonEl.style.display =\n",
              "        google.colab.kernel.accessAllowed ? 'block' : 'none';\n",
              "\n",
              "      async function convertToInteractive(key) {\n",
              "        const element = document.querySelector('#df-07d80c24-3ee1-43ad-a814-1da02241f859');\n",
              "        const dataTable =\n",
              "          await google.colab.kernel.invokeFunction('convertToInteractive',\n",
              "                                                    [key], {});\n",
              "        if (!dataTable) return;\n",
              "\n",
              "        const docLinkHtml = 'Like what you see? Visit the ' +\n",
              "          '<a target=\"_blank\" href=https://colab.research.google.com/notebooks/data_table.ipynb>data table notebook</a>'\n",
              "          + ' to learn more about interactive tables.';\n",
              "        element.innerHTML = '';\n",
              "        dataTable['output_type'] = 'display_data';\n",
              "        await google.colab.output.renderOutput(dataTable, element);\n",
              "        const docLink = document.createElement('div');\n",
              "        docLink.innerHTML = docLinkHtml;\n",
              "        element.appendChild(docLink);\n",
              "      }\n",
              "    </script>\n",
              "  </div>\n",
              "\n",
              "\n",
              "<div id=\"df-528026a8-bff8-41fd-8928-00ca31fc785e\">\n",
              "  <button class=\"colab-df-quickchart\" onclick=\"quickchart('df-528026a8-bff8-41fd-8928-00ca31fc785e')\"\n",
              "            title=\"Suggest charts\"\n",
              "            style=\"display:none;\">\n",
              "\n",
              "<svg xmlns=\"http://www.w3.org/2000/svg\" height=\"24px\"viewBox=\"0 0 24 24\"\n",
              "     width=\"24px\">\n",
              "    <g>\n",
              "        <path d=\"M19 3H5c-1.1 0-2 .9-2 2v14c0 1.1.9 2 2 2h14c1.1 0 2-.9 2-2V5c0-1.1-.9-2-2-2zM9 17H7v-7h2v7zm4 0h-2V7h2v10zm4 0h-2v-4h2v4z\"/>\n",
              "    </g>\n",
              "</svg>\n",
              "  </button>\n",
              "\n",
              "<style>\n",
              "  .colab-df-quickchart {\n",
              "      --bg-color: #E8F0FE;\n",
              "      --fill-color: #1967D2;\n",
              "      --hover-bg-color: #E2EBFA;\n",
              "      --hover-fill-color: #174EA6;\n",
              "      --disabled-fill-color: #AAA;\n",
              "      --disabled-bg-color: #DDD;\n",
              "  }\n",
              "\n",
              "  [theme=dark] .colab-df-quickchart {\n",
              "      --bg-color: #3B4455;\n",
              "      --fill-color: #D2E3FC;\n",
              "      --hover-bg-color: #434B5C;\n",
              "      --hover-fill-color: #FFFFFF;\n",
              "      --disabled-bg-color: #3B4455;\n",
              "      --disabled-fill-color: #666;\n",
              "  }\n",
              "\n",
              "  .colab-df-quickchart {\n",
              "    background-color: var(--bg-color);\n",
              "    border: none;\n",
              "    border-radius: 50%;\n",
              "    cursor: pointer;\n",
              "    display: none;\n",
              "    fill: var(--fill-color);\n",
              "    height: 32px;\n",
              "    padding: 0;\n",
              "    width: 32px;\n",
              "  }\n",
              "\n",
              "  .colab-df-quickchart:hover {\n",
              "    background-color: var(--hover-bg-color);\n",
              "    box-shadow: 0 1px 2px rgba(60, 64, 67, 0.3), 0 1px 3px 1px rgba(60, 64, 67, 0.15);\n",
              "    fill: var(--button-hover-fill-color);\n",
              "  }\n",
              "\n",
              "  .colab-df-quickchart-complete:disabled,\n",
              "  .colab-df-quickchart-complete:disabled:hover {\n",
              "    background-color: var(--disabled-bg-color);\n",
              "    fill: var(--disabled-fill-color);\n",
              "    box-shadow: none;\n",
              "  }\n",
              "\n",
              "  .colab-df-spinner {\n",
              "    border: 2px solid var(--fill-color);\n",
              "    border-color: transparent;\n",
              "    border-bottom-color: var(--fill-color);\n",
              "    animation:\n",
              "      spin 1s steps(1) infinite;\n",
              "  }\n",
              "\n",
              "  @keyframes spin {\n",
              "    0% {\n",
              "      border-color: transparent;\n",
              "      border-bottom-color: var(--fill-color);\n",
              "      border-left-color: var(--fill-color);\n",
              "    }\n",
              "    20% {\n",
              "      border-color: transparent;\n",
              "      border-left-color: var(--fill-color);\n",
              "      border-top-color: var(--fill-color);\n",
              "    }\n",
              "    30% {\n",
              "      border-color: transparent;\n",
              "      border-left-color: var(--fill-color);\n",
              "      border-top-color: var(--fill-color);\n",
              "      border-right-color: var(--fill-color);\n",
              "    }\n",
              "    40% {\n",
              "      border-color: transparent;\n",
              "      border-right-color: var(--fill-color);\n",
              "      border-top-color: var(--fill-color);\n",
              "    }\n",
              "    60% {\n",
              "      border-color: transparent;\n",
              "      border-right-color: var(--fill-color);\n",
              "    }\n",
              "    80% {\n",
              "      border-color: transparent;\n",
              "      border-right-color: var(--fill-color);\n",
              "      border-bottom-color: var(--fill-color);\n",
              "    }\n",
              "    90% {\n",
              "      border-color: transparent;\n",
              "      border-bottom-color: var(--fill-color);\n",
              "    }\n",
              "  }\n",
              "</style>\n",
              "\n",
              "  <script>\n",
              "    async function quickchart(key) {\n",
              "      const quickchartButtonEl =\n",
              "        document.querySelector('#' + key + ' button');\n",
              "      quickchartButtonEl.disabled = true;  // To prevent multiple clicks.\n",
              "      quickchartButtonEl.classList.add('colab-df-spinner');\n",
              "      try {\n",
              "        const charts = await google.colab.kernel.invokeFunction(\n",
              "            'suggestCharts', [key], {});\n",
              "      } catch (error) {\n",
              "        console.error('Error during call to suggestCharts:', error);\n",
              "      }\n",
              "      quickchartButtonEl.classList.remove('colab-df-spinner');\n",
              "      quickchartButtonEl.classList.add('colab-df-quickchart-complete');\n",
              "    }\n",
              "    (() => {\n",
              "      let quickchartButtonEl =\n",
              "        document.querySelector('#df-528026a8-bff8-41fd-8928-00ca31fc785e button');\n",
              "      quickchartButtonEl.style.display =\n",
              "        google.colab.kernel.accessAllowed ? 'block' : 'none';\n",
              "    })();\n",
              "  </script>\n",
              "</div>\n",
              "    </div>\n",
              "  </div>\n"
            ],
            "application/vnd.google.colaboratory.intrinsic+json": {
              "type": "dataframe",
              "variable_name": "df"
            }
          },
          "metadata": {},
          "execution_count": 5
        }
      ]
    },
    {
      "cell_type": "code",
      "source": [
        "# df.plot();"
      ],
      "metadata": {
        "id": "Wj61YrNQf3MQ"
      },
      "execution_count": null,
      "outputs": []
    },
    {
      "cell_type": "code",
      "source": [
        "# distplot for distribution\n",
        "plt.figure(figsize=[5,4])\n",
        "sns.set_style('darkgrid')\n",
        "sns.distplot(df['INDIA']);"
      ],
      "metadata": {
        "colab": {
          "base_uri": "https://localhost:8080/",
          "height": 388
        },
        "id": "E5N1BhfChLXJ",
        "outputId": "1bb0dd9b-7525-47e2-fad1-868ab8a0409e"
      },
      "execution_count": 6,
      "outputs": [
        {
          "output_type": "display_data",
          "data": {
            "text/plain": [
              "<Figure size 500x400 with 1 Axes>"
            ],
            "image/png": "[encoded data removed]"
          },
          "metadata": {}
        }
      ]
    },
    {
      "cell_type": "code",
      "source": [
        "df['INDIA'].kurt() # -0.4104285794558695 # means plateau like , its slightly platykurtic"
      ],
      "metadata": {
        "colab": {
          "base_uri": "https://localhost:8080/"
        },
        "id": "ySTQBgSZf6F5",
        "outputId": "6c23b290-a4b8-45b6-bb34-7014a6598a31"
      },
      "execution_count": 7,
      "outputs": [
        {
          "output_type": "execute_result",
          "data": {
            "text/plain": [
              "-0.4104285794558695"
            ]
          },
          "metadata": {},
          "execution_count": 7
        }
      ]
    },
    {
      "cell_type": "code",
      "source": [
        "df['INDIA'].skew() # 0.9130145283125101 right skewed slightly"
      ],
      "metadata": {
        "colab": {
          "base_uri": "https://localhost:8080/"
        },
        "id": "iCWx36JNgRlt",
        "outputId": "16c36fa4-2e06-458a-c409-080fef979401"
      },
      "execution_count": 8,
      "outputs": [
        {
          "output_type": "execute_result",
          "data": {
            "text/plain": [
              "0.9130145283125101"
            ]
          },
          "metadata": {},
          "execution_count": 8
        }
      ]
    },
    {
      "cell_type": "markdown",
      "source": [
        "0.913.. means data is slightly skewed"
      ],
      "metadata": {
        "id": "ALK6_ywkgoqH"
      }
    },
    {
      "cell_type": "code",
      "source": [
        "df1 = df.copy()"
      ],
      "metadata": {
        "id": "1C8sX3-hi1ly"
      },
      "execution_count": null,
      "outputs": []
    },
    {
      "cell_type": "code",
      "source": [
        "df1['INDIA'] = np.log(df1['INDIA'])"
      ],
      "metadata": {
        "id": "yN1A5ONHjEVr"
      },
      "execution_count": null,
      "outputs": []
    },
    {
      "cell_type": "code",
      "source": [
        "plt.figure(figsize=[5,4])\n",
        "sns.set_style('darkgrid')\n",
        "sns.distplot(df1['INDIA']);"
      ],
      "metadata": {
        "colab": {
          "base_uri": "https://localhost:8080/",
          "height": 388
        },
        "id": "_jcb7V7ejMzw",
        "outputId": "22c2a4a7-6762-4f55-8bbe-b71495cda49f"
      },
      "execution_count": null,
      "outputs": [
        {
          "output_type": "display_data",
          "data": {
            "text/plain": [
              "<Figure size 500x400 with 1 Axes>"
            ],
            "image/png": "[encoded data removed]"
          },
          "metadata": {}
        }
      ]
    },
    {
      "cell_type": "code",
      "source": [
        "df1['INDIA'].skew()"
      ],
      "metadata": {
        "colab": {
          "base_uri": "https://localhost:8080/"
        },
        "id": "9IZzhqGCjWre",
        "outputId": "c2939090-1dec-48f2-c4af-95696c9bf923"
      },
      "execution_count": null,
      "outputs": [
        {
          "output_type": "execute_result",
          "data": {
            "text/plain": [
              "0.7329097324176702"
            ]
          },
          "metadata": {},
          "execution_count": 14
        }
      ]
    },
    {
      "cell_type": "code",
      "source": [
        "df1['INDIA'].kurt()"
      ],
      "metadata": {
        "colab": {
          "base_uri": "https://localhost:8080/"
        },
        "id": "4ZTmfzk7jZnP",
        "outputId": "b9254136-bf6b-4b83-8cc0-3c6c47985034"
      },
      "execution_count": null,
      "outputs": [
        {
          "output_type": "execute_result",
          "data": {
            "text/plain": [
              "-0.5893551500408338"
            ]
          },
          "metadata": {},
          "execution_count": 15
        }
      ]
    },
    {
      "cell_type": "code",
      "source": [
        "from pandas.plotting import autocorrelation_plot\n",
        "\n",
        "autocorrelation_plot(df1['INDIA'])"
      ],
      "metadata": {
        "colab": {
          "base_uri": "https://localhost:8080/",
          "height": 473
        },
        "id": "74bJFo6tkTzl",
        "outputId": "169f3319-6794-4994-fe5e-f352ca1c7d93"
      },
      "execution_count": null,
      "outputs": [
        {
          "output_type": "execute_result",
          "data": {
            "text/plain": [
              "<Axes: xlabel='Lag', ylabel='Autocorrelation'>"
            ]
          },
          "metadata": {},
          "execution_count": 16
        },
        {
          "output_type": "display_data",
          "data": {
            "text/plain": [
              "<Figure size 640x480 with 1 Axes>"
            ],
            "image/png": "[encoded data removed]"
          },
          "metadata": {}
        }
      ]
    },
    {
      "cell_type": "code",
      "source": [
        "from statsmodels.tsa.arima.model import ARIMA"
      ],
      "metadata": {
        "id": "dQkWSUoBk7_v"
      },
      "execution_count": 9,
      "outputs": []
    },
    {
      "cell_type": "code",
      "source": [
        "from statsmodels.tools.sm_exceptions import ConvergenceWarning\n",
        "warnings.simplefilter('ignore', ConvergenceWarning)"
      ],
      "metadata": {
        "id": "WbZGKZApS1lh"
      },
      "execution_count": 10,
      "outputs": []
    },
    {
      "cell_type": "code",
      "source": [
        "# X = data.values\n",
        "# size = int(len(X) * 0.7)"
      ],
      "metadata": {
        "id": "1apQxg2WqeDa"
      },
      "execution_count": null,
      "outputs": []
    },
    {
      "cell_type": "code",
      "source": [
        "# train, test = X[0:size], X[size:len(X)]"
      ],
      "metadata": {
        "id": "f4qcQX3Pq-TR"
      },
      "execution_count": null,
      "outputs": []
    },
    {
      "cell_type": "code",
      "source": [
        "# train2 = X"
      ],
      "metadata": {
        "id": "kBtZoUFSm_jt"
      },
      "execution_count": null,
      "outputs": []
    },
    {
      "cell_type": "code",
      "source": [
        "# data_history, predictions = [x for x in train], []"
      ],
      "metadata": {
        "id": "dPgla1OSrS3n"
      },
      "execution_count": null,
      "outputs": []
    },
    {
      "cell_type": "code",
      "source": [
        "# history = X.copy()"
      ],
      "metadata": {
        "id": "5AnosRvbn_Kq"
      },
      "execution_count": null,
      "outputs": []
    },
    {
      "cell_type": "code",
      "source": [
        "# training ARIMA on 5 lags, 1 differential and 3 MA window\n",
        "# for t in range(len(test)):\n",
        "#   model = ARIMA(data_history, order=(5,1,3))\n",
        "#   model_fit = model.fit()\n",
        "#   output = model_fit.forecast()\n",
        "#   prediction = round(output[0], 3)\n",
        "#   predictions.append(prediction)\n",
        "#   actual = test[t]\n",
        "#   data_history.append(actual)\n",
        "#   print(f'Predicted Value : {prediction} , Expected Value : {actual}')"
      ],
      "metadata": {
        "id": "lNqAAtlSrs04"
      },
      "execution_count": null,
      "outputs": []
    },
    {
      "cell_type": "code",
      "source": [
        "loss = np.sqrt(mean_squared_error(history, model2_fit.fittedvalues))\n",
        "score = r2_score(history, model2_fit.fittedvalues)\n",
        "mape = mean_absolute_percentage_error(history, model2_fit.fittedvalues)\n",
        "print(f'Loss in forcasting : {loss}')\n",
        "print(f'Score in forcasting : {score}')\n",
        "print(f'MAPE in forcasting : {mape}')\n"
      ],
      "metadata": {
        "colab": {
          "base_uri": "https://localhost:8080/"
        },
        "id": "r3OObrXSlWw2",
        "outputId": "44338172-e2ab-4f03-cd33-57c09f60f126"
      },
      "execution_count": null,
      "outputs": [
        {
          "output_type": "stream",
          "name": "stdout",
          "text": [
            "Loss in forcasting : 1.549853174678632\n",
            "Score in forcasting : 0.9603191246292238\n",
            "MAPE in forcasting : 0.024191411708999536\n"
          ]
        }
      ]
    },
    {
      "cell_type": "markdown",
      "source": [
        "# checking with 5,1,3"
      ],
      "metadata": {
        "id": "tHNYqeFdovJx"
      }
    },
    {
      "cell_type": "code",
      "source": [
        "model = ARIMA(history, order=(5,1,3))\n",
        "model_fit = model.fit()\n",
        "output = model_fit.forecast()\n",
        "prediction = round(output[0], 3)\n",
        "print(f'Predicted Value : {prediction}')"
      ],
      "metadata": {
        "colab": {
          "base_uri": "https://localhost:8080/"
        },
        "id": "c3keVxcsozJo",
        "outputId": "f310aac3-6075-4dde-e579-ab6ef003c3f5"
      },
      "execution_count": null,
      "outputs": [
        {
          "output_type": "stream",
          "name": "stdout",
          "text": [
            "Predicted Value : 67.076\n"
          ]
        }
      ]
    },
    {
      "cell_type": "code",
      "source": [
        "plt.plot(history)\n",
        "plt.plot(model_fit.fittedvalues, color='green');"
      ],
      "metadata": {
        "colab": {
          "base_uri": "https://localhost:8080/",
          "height": 430
        },
        "id": "q-GNCW-mpADn",
        "outputId": "96e903f7-2748-4a7c-b625-84ccc45f6330"
      },
      "execution_count": null,
      "outputs": [
        {
          "output_type": "display_data",
          "data": {
            "text/plain": [
              "<Figure size 640x480 with 1 Axes>"
            ],
            "image/png": "[encoded data removed]"
          },
          "metadata": {}
        }
      ]
    },
    {
      "cell_type": "code",
      "source": [
        "loss = np.sqrt(mean_squared_error(history, model_fit.fittedvalues))\n",
        "score = r2_score(history, model_fit.fittedvalues)\n",
        "mape = mean_absolute_percentage_error(history, model_fit.fittedvalues)\n",
        "print(f'Loss in forcasting : {loss}')\n",
        "print(f'Score in forcasting : {score}')\n",
        "print(f'MAPE in forcasting : {mape}')"
      ],
      "metadata": {
        "colab": {
          "base_uri": "https://localhost:8080/"
        },
        "id": "KhjE8BpcpIce",
        "outputId": "755e96a1-3a60-4e13-e4d5-049f4c6c4b03"
      },
      "execution_count": null,
      "outputs": [
        {
          "output_type": "stream",
          "name": "stdout",
          "text": [
            "Loss in forcasting : 6.128557686511506\n",
            "Score in forcasting : 0.37953585977656434\n",
            "MAPE in forcasting : 0.04284175559054465\n"
          ]
        }
      ]
    },
    {
      "cell_type": "code",
      "source": [
        "# def evaluate_arima_model(X, arima_order):\n",
        "#   size = int(len(X) * 0.7)\n",
        "#   train, test = X[0:size], X[size:len(X)]\n",
        "#   data_history, predictions = [x for x in train], []\n",
        "#   for t in range(len(test)):\n",
        "#       model = ARIMA(data_history, order=arima_order)\n",
        "#       model_fit = model.fit()\n",
        "#       output = model_fit.forecast()\n",
        "#       prediction = output[0]\n",
        "#       predictions.append(prediction)\n",
        "#       actual = test[t]\n",
        "#       data_history.append(actual)\n",
        "#       # print(f'Predicted Value : {prediction} , Expected Value : {actual}')\n",
        "#   rmse = np.sqrt(mean_squared_error(test, predictions))\n",
        "#   return rmse"
      ],
      "metadata": {
        "id": "Gz8gAN1M3guf"
      },
      "execution_count": null,
      "outputs": []
    },
    {
      "cell_type": "code",
      "source": [
        "# def evaluate_models(dataset, p_list, d_list, q_list):\n",
        "#   best_score, best_arima_params = float('inf'), None\n",
        "#   for p in p_list:\n",
        "#       for d in d_list:\n",
        "#           for q in q_list:\n",
        "#               order = (p, d, q)\n",
        "#               try:\n",
        "#                   rmse = evaluate_arima_model(dataset, order)\n",
        "#                   if rmse < best_score:\n",
        "#                       best_score, best_arima_params = rmse, order\n",
        "#                   print(f'\\nARIMA{order} : The RMSE is : {round(rmse, 3)}')\n",
        "#               except:\n",
        "#                   continue\n",
        "#   print(f'\\nBest ARIMA is : {best_arima_params} ; The RMSE is : {best_score}')\n"
      ],
      "metadata": {
        "id": "A_E9lbIb5LIe"
      },
      "execution_count": null,
      "outputs": []
    },
    {
      "cell_type": "markdown",
      "source": [
        "#**Mango Tuning**\n"
      ],
      "metadata": {
        "id": "XREVpkfzl0zn"
      }
    },
    {
      "cell_type": "code",
      "source": [
        "!pip install arm-mango"
      ],
      "metadata": {
        "id": "yk811z14mCij",
        "colab": {
          "base_uri": "https://localhost:8080/"
        },
        "outputId": "2a0d253a-d45f-44b8-bdf6-02acec624514"
      },
      "execution_count": 11,
      "outputs": [
        {
          "output_type": "stream",
          "name": "stdout",
          "text": [
            "Collecting arm-mango\n",
            "  Downloading arm_mango-1.4.3-py3-none-any.whl (29 kB)\n",
            "Collecting attrdict>=2.0.1 (from arm-mango)\n",
            "  Downloading attrdict-2.0.1-py2.py3-none-any.whl (9.9 kB)\n",
            "Requirement already satisfied: numpy>=1.17.0 in /usr/local/lib/python3.10/dist-packages (from arm-mango) (1.25.2)\n",
            "Requirement already satisfied: scikit_learn>=0.21.3 in /usr/local/lib/python3.10/dist-packages (from arm-mango) (1.2.2)\n",
            "Requirement already satisfied: scipy>=1.4.1 in /usr/local/lib/python3.10/dist-packages (from arm-mango) (1.11.4)\n",
            "Requirement already satisfied: tqdm>=4.36.1 in /usr/local/lib/python3.10/dist-packages (from arm-mango) (4.66.2)\n",
            "Requirement already satisfied: six in /usr/local/lib/python3.10/dist-packages (from attrdict>=2.0.1->arm-mango) (1.16.0)\n",
            "Requirement already satisfied: joblib>=1.1.1 in /usr/local/lib/python3.10/dist-packages (from scikit_learn>=0.21.3->arm-mango) (1.3.2)\n",
            "Requirement already satisfied: threadpoolctl>=2.0.0 in /usr/local/lib/python3.10/dist-packages (from scikit_learn>=0.21.3->arm-mango) (3.4.0)\n",
            "Installing collected packages: attrdict, arm-mango\n",
            "Successfully installed arm-mango-1.4.3 attrdict-2.0.1\n"
          ]
        }
      ]
    },
    {
      "cell_type": "code",
      "source": [
        "from mango import scheduler, Tuner"
      ],
      "metadata": {
        "id": "GhlWou6Oni1D"
      },
      "execution_count": 12,
      "outputs": []
    },
    {
      "cell_type": "code",
      "source": [
        "from sklearn.metrics import mean_squared_error, r2_score"
      ],
      "metadata": {
        "id": "feuyh1u5tXvu"
      },
      "execution_count": 26,
      "outputs": []
    },
    {
      "cell_type": "code",
      "source": [
        "def arima_predictor(params):\n",
        "  global data_points\n",
        "\n",
        "  p, d, q = params['p'],params['d'],params['q']\n",
        "  trend = params['trend']\n",
        "  model = ARIMA(data_points, order=(p, d, q), trend=trend)\n",
        "  model_fit = model.fit()\n",
        "  output = model_fit.forecast()\n",
        "  prediction = round(output[0], 3)\n",
        "\n",
        "  return prediction, model_fit.fittedvalues"
      ],
      "metadata": {
        "id": "hH2kI4x4YWZC"
      },
      "execution_count": 14,
      "outputs": []
    },
    {
      "cell_type": "code",
      "source": [
        "def arima_mango_tuner(args_list):\n",
        "  global data_points\n",
        "\n",
        "  evaluated_params = []\n",
        "  results = []\n",
        "\n",
        "  for params in args_list:\n",
        "    try:\n",
        "      p,d,q = params['p'], params['d'], params['q']\n",
        "      trend = params['trend']\n",
        "\n",
        "      model = ARIMA(data_points, order=(p,d,q), trend=trend)\n",
        "      predictions = model.fit()\n",
        "      rmse = np.sqrt(mean_squared_error(data_points, predictions.fittedvalues))\n",
        "      evaluated_params.append(params)\n",
        "\n",
        "      results.append(rmse)\n",
        "\n",
        "    except:\n",
        "      evaluated_params.append(params)\n",
        "      results.append(1e5)\n",
        "\n",
        "  return evaluated_params, results\n"
      ],
      "metadata": {
        "id": "ujrAx6kpnbIl"
      },
      "execution_count": 15,
      "outputs": []
    },
    {
      "cell_type": "code",
      "source": [
        "def early_stopping(results):\n",
        "  '''\n",
        "    Stop Iterating if for 5 iterations the value doesnt improve\n",
        "    Stop Iterating if best_objective falls below 1.7\n",
        "  '''\n",
        "\n",
        "  current_best_objective = results['best_objective']\n",
        "\n",
        "  return current_best_objective <= 1.7"
      ],
      "metadata": {
        "id": "hm1yx9ghDObs"
      },
      "execution_count": 20,
      "outputs": []
    },
    {
      "cell_type": "code",
      "source": [
        "param_space = dict(\n",
        "    p = range(0,20),\n",
        "    d = range(0,5),\n",
        "    q = range(0,20),\n",
        "    trend = ['n', 'c', 't', 'ct']  # n is no trend, c is constant term, t is linear trend, ct is both c and t\n",
        ")\n",
        "\n",
        "country = input(\"Enter the country name : \").upper()\n",
        "config_dict = dict(early_stopping=early_stopping)\n",
        "config_dict['num_iteration'] = 100\n",
        "data_points = list(df[country])\n",
        "\n",
        "tuner = Tuner(param_space, arima_mango_tuner, config_dict)\n",
        "\n",
        "results = tuner.minimize()\n",
        "params = results['best_params']\n",
        "\n",
        "model_results = arima_predictor(params)\n",
        "predict, fitted_values = model_results\n",
        "\n",
        "print('Best Parameters : ' , results['best_params'])\n",
        "print('\\nBest Loss : ' , results['best_objective'])\n",
        "\n",
        "print(f'Predicted Q4 Value for {country} is : {predict}')\n"
      ],
      "metadata": {
        "colab": {
          "base_uri": "https://localhost:8080/",
          "height": 121,
          "referenced_widgets": [
            "be1f8f184a1a4518b68bd5606460c14e",
            "e28c3f5b98cc422397d60582a0194449",
            "18196827c3f643c79d6acf98b6e841a1",
            "f4c2b5d90c174bc38f2420e5bf4c1b88",
            "8e11b014977a4b77aa390bfacacbb931",
            "9ab62bb1d34a42c39d47f482b060ce41",
            "6f20b3071e7d4c0d9b68215620a2ab7a",
            "927d83ebfed040909b248b29125dd2ca",
            "cf1a387071f34af6b187d56d7570d845",
            "4f7b3d4211a64fa0aa0cf4f2eb801350",
            "a4ac974f2a8a4b0dbe3e2cc46780b907"
          ]
        },
        "id": "sZyo3QFRr7Dk",
        "outputId": "796bfa25-4f32-40ad-dc39-ca25c763c1b7"
      },
      "execution_count": 21,
      "outputs": [
        {
          "name": "stdout",
          "output_type": "stream",
          "text": [
            "Enter the country name : pakistan\n"
          ]
        },
        {
          "output_type": "display_data",
          "data": {
            "text/plain": [
              "  0%|          | 0/100 [00:00<?, ?it/s]"
            ],
            "application/vnd.jupyter.widget-view+json": {
              "version_major": 2,
              "version_minor": 0,
              "model_id": "be1f8f184a1a4518b68bd5606460c14e"
            }
          },
          "metadata": {}
        },
        {
          "output_type": "stream",
          "name": "stdout",
          "text": [
            "Best Parameters :  {'d': 0, 'p': 11, 'q': 2, 'trend': 'ct'}\n",
            "Best Loss :  2.2186361620537376\n",
            "Predicted Q4 Value for PAKISTAN is : 104.495\n"
          ]
        }
      ]
    },
    {
      "cell_type": "code",
      "source": [
        "print(f'R2 Score for {country} is : {round(r2_score(data_points, fitted_values)*100, 2)}%')"
      ],
      "metadata": {
        "colab": {
          "base_uri": "https://localhost:8080/"
        },
        "id": "zl97jSmwvSUc",
        "outputId": "e1b11faf-ebbe-4c59-a8ca-13c1db38a5f2"
      },
      "execution_count": 25,
      "outputs": [
        {
          "output_type": "stream",
          "name": "stdout",
          "text": [
            "R2 Score for PAKISTAN is : 98.53%\n"
          ]
        }
      ]
    },
    {
      "cell_type": "code",
      "source": [
        "import plotly.express as px, plotly.graph_objects as go\n",
        "\n",
        "def plot_arima_graph(data_points, fitted_values, prediction, country):\n",
        "    # Convert the 'x' values to a list\n",
        "    x_values = list(range(len(data_points)))\n",
        "\n",
        "    # Create a DataFrame with the data\n",
        "    df = pd.DataFrame({'Index': x_values, 'Data Points': data_points, 'Fitted Values': fitted_values})\n",
        "\n",
        "    # Create a line plot using Plotly Express\n",
        "    fig = px.line(df, x='Index', y=['Data Points', 'Fitted Values'], title=f'ARIMA Fitted Values vs. History Data for {country}')\n",
        "\n",
        "    # Add a marker for the next prediction\n",
        "    fig.add_trace(go.Scatter(x=[len(data_points)], y=[prediction], mode='markers', name='Next Prediction'))\n",
        "\n",
        "    fig.update_layout(xaxis_title=country, yaxis_title='FOREX Prices', legend_title='Legend')\n",
        "    fig.show()"
      ],
      "metadata": {
        "id": "nYF1aKkdva4X"
      },
      "execution_count": 18,
      "outputs": []
    },
    {
      "cell_type": "code",
      "source": [
        "plot_arima_graph(data_points, fitted_values, predict, country)"
      ],
      "metadata": {
        "colab": {
          "base_uri": "https://localhost:8080/",
          "height": 542
        },
        "id": "EKT1ij2hwzdF",
        "outputId": "5e838adf-5fc0-4f54-d898-c6a033bd4659"
      },
      "execution_count": 22,
      "outputs": [
        {
          "output_type": "display_data",
          "data": {
            "text/html": [
              "<html>\n",
              "<head><meta charset=\"utf-8\" /></head>\n",
              "<body>\n",
              "    <div>            <script src=\"https://cdnjs.cloudflare.com/ajax/libs/mathjax/2.7.5/MathJax.js?config=TeX-AMS-MML_SVG\"></script><script type=\"text/javascript\">if (window.MathJax && window.MathJax.Hub && window.MathJax.Hub.Config) {window.MathJax.Hub.Config({SVG: {font: \"STIX-Web\"}});}</script>                <script type=\"text/javascript\">window.PlotlyConfig = {MathJaxConfig: 'local'};</script>\n",
              "        <script charset=\"utf-8\" src=\"https://cdn.plot.ly/plotly-2.24.1.min.js\"></script>                <div id=\"460a0af6-a949-487b-b4c0-ffe1fc001cad\" class=\"plotly-graph-div\" style=\"height:525px; width:100%;\"></div>            <script type=\"text/javascript\">                                    window.PLOTLYENV=window.PLOTLYENV || {};                                    if (document.getElementById(\"460a0af6-a949-487b-b4c0-ffe1fc001cad\")) {                    Plotly.newPlot(                        \"460a0af6-a949-487b-b4c0-ffe1fc001cad\",                        [{\"hovertemplate\":\"variable=Data Points\\u003cbr\\u003eIndex=%{x}\\u003cbr\\u003evalue=%{y}\\u003cextra\\u003e\\u003c\\u002fextra\\u003e\",\"legendgroup\":\"Data Points\",\"line\":{\"color\":\"#636efa\",\"dash\":\"solid\"},\"marker\":{\"symbol\":\"circle\"},\"mode\":\"lines\",\"name\":\"Data Points\",\"orientation\":\"v\",\"showlegend\":true,\"x\":[0,1,2,3,4,5,6,7,8,9,10,11,12,13,14,15,16,17,18,19,20,21,22,23,24,25,26,27,28,29,30,31,32,33,34,35,36,37,38,39,40,41,42,43,44,45,46,47,48,49,50,51,52,53,54,55,56,57,58,59,60,61,62],\"xaxis\":\"x\",\"y\":[59.25,61.5,63.0,58.0,58.0,58.0,58.0,58.0,58.0,57.7,57.75,57.15,57.1,57.69,58.62,59.65,59.31,59.2,59.53,59.72,59.85,60.1,60.26,60.84,60.72,60.72,60.65,61.14,62.58,76.13,75.38,77.7,79.95,81.35,82.85,84.2,83.9,85.42,85.4,85.7,85.67,85.95,87.36,89.16,90.54,93.55,94.75,97.18,98.38,99.2,105.8,105.16,104.87,98.6,102.55,100.9,101.92,101.75,104.45,104.7,104.7,104.6,104.42],\"yaxis\":\"y\",\"type\":\"scatter\"},{\"hovertemplate\":\"variable=Fitted Values\\u003cbr\\u003eIndex=%{x}\\u003cbr\\u003evalue=%{y}\\u003cextra\\u003e\\u003c\\u002fextra\\u003e\",\"legendgroup\":\"Fitted Values\",\"line\":{\"color\":\"#EF553B\",\"dash\":\"solid\"},\"marker\":{\"symbol\":\"circle\"},\"mode\":\"lines\",\"name\":\"Fitted Values\",\"orientation\":\"v\",\"showlegend\":true,\"x\":[0,1,2,3,4,5,6,7,8,9,10,11,12,13,14,15,16,17,18,19,20,21,22,23,24,25,26,27,28,29,30,31,32,33,34,35,36,37,38,39,40,41,42,43,44,45,46,47,48,49,50,51,52,53,54,55,56,57,58,59,60,61,62],\"xaxis\":\"x\",\"y\":[54.27476519372222,59.61514151527584,61.67141857926998,63.32423586537133,59.023930378104424,58.20026507302412,58.84177929080453,58.00884268677753,58.634426971549495,58.742452563510476,58.872318245946566,58.52949683671926,57.69690227780521,57.91694841155547,58.28167397459974,59.46794052313297,60.29025270518662,60.49552002877059,60.14161943507701,60.8282855228131,60.68537852500042,61.26219167038439,61.45378790586997,62.12977995557875,62.52927562395252,62.82656373569479,62.74540707867564,63.13304773786455,63.46128013750807,65.11164429806796,76.46350329490006,77.79048886273192,78.59345506977853,82.28694588540729,82.13589969315933,83.70565331778445,84.74893891695285,85.37749543726936,87.51936638433871,86.71254749681702,87.96143229853186,87.18966522427735,88.39470936876245,88.72467776280155,91.31214586113711,91.5708154555683,95.33101573617688,95.43558388383556,98.42038791713733,98.5424895298007,100.15072033143579,104.67928169158083,105.78592661172145,103.99131901718809,100.57759291810353,101.475132208931,102.15734231228564,100.75080452066098,103.14763466766632,104.31107618432857,105.42769407129761,104.32512082443509,104.4729216002051],\"yaxis\":\"y\",\"type\":\"scatter\"},{\"mode\":\"markers\",\"name\":\"Next Prediction\",\"x\":[63],\"y\":[104.495],\"type\":\"scatter\"}],                        {\"template\":{\"data\":{\"histogram2dcontour\":[{\"type\":\"histogram2dcontour\",\"colorbar\":{\"outlinewidth\":0,\"ticks\":\"\"},\"colorscale\":[[0.0,\"#0d0887\"],[0.1111111111111111,\"#46039f\"],[0.2222222222222222,\"#7201a8\"],[0.3333333333333333,\"#9c179e\"],[0.4444444444444444,\"#bd3786\"],[0.5555555555555556,\"#d8576b\"],[0.6666666666666666,\"#ed7953\"],[0.7777777777777778,\"#fb9f3a\"],[0.8888888888888888,\"#fdca26\"],[1.0,\"#f0f921\"]]}],\"choropleth\":[{\"type\":\"choropleth\",\"colorbar\":{\"outlinewidth\":0,\"ticks\":\"\"}}],\"histogram2d\":[{\"type\":\"histogram2d\",\"colorbar\":{\"outlinewidth\":0,\"ticks\":\"\"},\"colorscale\":[[0.0,\"#0d0887\"],[0.1111111111111111,\"#46039f\"],[0.2222222222222222,\"#7201a8\"],[0.3333333333333333,\"#9c179e\"],[0.4444444444444444,\"#bd3786\"],[0.5555555555555556,\"#d8576b\"],[0.6666666666666666,\"#ed7953\"],[0.7777777777777778,\"#fb9f3a\"],[0.8888888888888888,\"#fdca26\"],[1.0,\"#f0f921\"]]}],\"heatmap\":[{\"type\":\"heatmap\",\"colorbar\":{\"outlinewidth\":0,\"ticks\":\"\"},\"colorscale\":[[0.0,\"#0d0887\"],[0.1111111111111111,\"#46039f\"],[0.2222222222222222,\"#7201a8\"],[0.3333333333333333,\"#9c179e\"],[0.4444444444444444,\"#bd3786\"],[0.5555555555555556,\"#d8576b\"],[0.6666666666666666,\"#ed7953\"],[0.7777777777777778,\"#fb9f3a\"],[0.8888888888888888,\"#fdca26\"],[1.0,\"#f0f921\"]]}],\"heatmapgl\":[{\"type\":\"heatmapgl\",\"colorbar\":{\"outlinewidth\":0,\"ticks\":\"\"},\"colorscale\":[[0.0,\"#0d0887\"],[0.1111111111111111,\"#46039f\"],[0.2222222222222222,\"#7201a8\"],[0.3333333333333333,\"#9c179e\"],[0.4444444444444444,\"#bd3786\"],[0.5555555555555556,\"#d8576b\"],[0.6666666666666666,\"#ed7953\"],[0.7777777777777778,\"#fb9f3a\"],[0.8888888888888888,\"#fdca26\"],[1.0,\"#f0f921\"]]}],\"contourcarpet\":[{\"type\":\"contourcarpet\",\"colorbar\":{\"outlinewidth\":0,\"ticks\":\"\"}}],\"contour\":[{\"type\":\"contour\",\"colorbar\":{\"outlinewidth\":0,\"ticks\":\"\"},\"colorscale\":[[0.0,\"#0d0887\"],[0.1111111111111111,\"#46039f\"],[0.2222222222222222,\"#7201a8\"],[0.3333333333333333,\"#9c179e\"],[0.4444444444444444,\"#bd3786\"],[0.5555555555555556,\"#d8576b\"],[0.6666666666666666,\"#ed7953\"],[0.7777777777777778,\"#fb9f3a\"],[0.8888888888888888,\"#fdca26\"],[1.0,\"#f0f921\"]]}],\"surface\":[{\"type\":\"surface\",\"colorbar\":{\"outlinewidth\":0,\"ticks\":\"\"},\"colorscale\":[[0.0,\"#0d0887\"],[0.1111111111111111,\"#46039f\"],[0.2222222222222222,\"#7201a8\"],[0.3333333333333333,\"#9c179e\"],[0.4444444444444444,\"#bd3786\"],[0.5555555555555556,\"#d8576b\"],[0.6666666666666666,\"#ed7953\"],[0.7777777777777778,\"#fb9f3a\"],[0.8888888888888888,\"#fdca26\"],[1.0,\"#f0f921\"]]}],\"mesh3d\":[{\"type\":\"mesh3d\",\"colorbar\":{\"outlinewidth\":0,\"ticks\":\"\"}}],\"scatter\":[{\"fillpattern\":{\"fillmode\":\"overlay\",\"size\":10,\"solidity\":0.2},\"type\":\"scatter\"}],\"parcoords\":[{\"type\":\"parcoords\",\"line\":{\"colorbar\":{\"outlinewidth\":0,\"ticks\":\"\"}}}],\"scatterpolargl\":[{\"type\":\"scatterpolargl\",\"marker\":{\"colorbar\":{\"outlinewidth\":0,\"ticks\":\"\"}}}],\"bar\":[{\"error_x\":{\"color\":\"#2a3f5f\"},\"error_y\":{\"color\":\"#2a3f5f\"},\"marker\":{\"line\":{\"color\":\"#E5ECF6\",\"width\":0.5},\"pattern\":{\"fillmode\":\"overlay\",\"size\":10,\"solidity\":0.2}},\"type\":\"bar\"}],\"scattergeo\":[{\"type\":\"scattergeo\",\"marker\":{\"colorbar\":{\"outlinewidth\":0,\"ticks\":\"\"}}}],\"scatterpolar\":[{\"type\":\"scatterpolar\",\"marker\":{\"colorbar\":{\"outlinewidth\":0,\"ticks\":\"\"}}}],\"histogram\":[{\"marker\":{\"pattern\":{\"fillmode\":\"overlay\",\"size\":10,\"solidity\":0.2}},\"type\":\"histogram\"}],\"scattergl\":[{\"type\":\"scattergl\",\"marker\":{\"colorbar\":{\"outlinewidth\":0,\"ticks\":\"\"}}}],\"scatter3d\":[{\"type\":\"scatter3d\",\"line\":{\"colorbar\":{\"outlinewidth\":0,\"ticks\":\"\"}},\"marker\":{\"colorbar\":{\"outlinewidth\":0,\"ticks\":\"\"}}}],\"scattermapbox\":[{\"type\":\"scattermapbox\",\"marker\":{\"colorbar\":{\"outlinewidth\":0,\"ticks\":\"\"}}}],\"scatterternary\":[{\"type\":\"scatterternary\",\"marker\":{\"colorbar\":{\"outlinewidth\":0,\"ticks\":\"\"}}}],\"scattercarpet\":[{\"type\":\"scattercarpet\",\"marker\":{\"colorbar\":{\"outlinewidth\":0,\"ticks\":\"\"}}}],\"carpet\":[{\"aaxis\":{\"endlinecolor\":\"#2a3f5f\",\"gridcolor\":\"white\",\"linecolor\":\"white\",\"minorgridcolor\":\"white\",\"startlinecolor\":\"#2a3f5f\"},\"baxis\":{\"endlinecolor\":\"#2a3f5f\",\"gridcolor\":\"white\",\"linecolor\":\"white\",\"minorgridcolor\":\"white\",\"startlinecolor\":\"#2a3f5f\"},\"type\":\"carpet\"}],\"table\":[{\"cells\":{\"fill\":{\"color\":\"#EBF0F8\"},\"line\":{\"color\":\"white\"}},\"header\":{\"fill\":{\"color\":\"#C8D4E3\"},\"line\":{\"color\":\"white\"}},\"type\":\"table\"}],\"barpolar\":[{\"marker\":{\"line\":{\"color\":\"#E5ECF6\",\"width\":0.5},\"pattern\":{\"fillmode\":\"overlay\",\"size\":10,\"solidity\":0.2}},\"type\":\"barpolar\"}],\"pie\":[{\"automargin\":true,\"type\":\"pie\"}]},\"layout\":{\"autotypenumbers\":\"strict\",\"colorway\":[\"#636efa\",\"#EF553B\",\"#00cc96\",\"#ab63fa\",\"#FFA15A\",\"#19d3f3\",\"#FF6692\",\"#B6E880\",\"#FF97FF\",\"#FECB52\"],\"font\":{\"color\":\"#2a3f5f\"},\"hovermode\":\"closest\",\"hoverlabel\":{\"align\":\"left\"},\"paper_bgcolor\":\"white\",\"plot_bgcolor\":\"#E5ECF6\",\"polar\":{\"bgcolor\":\"#E5ECF6\",\"angularaxis\":{\"gridcolor\":\"white\",\"linecolor\":\"white\",\"ticks\":\"\"},\"radialaxis\":{\"gridcolor\":\"white\",\"linecolor\":\"white\",\"ticks\":\"\"}},\"ternary\":{\"bgcolor\":\"#E5ECF6\",\"aaxis\":{\"gridcolor\":\"white\",\"linecolor\":\"white\",\"ticks\":\"\"},\"baxis\":{\"gridcolor\":\"white\",\"linecolor\":\"white\",\"ticks\":\"\"},\"caxis\":{\"gridcolor\":\"white\",\"linecolor\":\"white\",\"ticks\":\"\"}},\"coloraxis\":{\"colorbar\":{\"outlinewidth\":0,\"ticks\":\"\"}},\"colorscale\":{\"sequential\":[[0.0,\"#0d0887\"],[0.1111111111111111,\"#46039f\"],[0.2222222222222222,\"#7201a8\"],[0.3333333333333333,\"#9c179e\"],[0.4444444444444444,\"#bd3786\"],[0.5555555555555556,\"#d8576b\"],[0.6666666666666666,\"#ed7953\"],[0.7777777777777778,\"#fb9f3a\"],[0.8888888888888888,\"#fdca26\"],[1.0,\"#f0f921\"]],\"sequentialminus\":[[0.0,\"#0d0887\"],[0.1111111111111111,\"#46039f\"],[0.2222222222222222,\"#7201a8\"],[0.3333333333333333,\"#9c179e\"],[0.4444444444444444,\"#bd3786\"],[0.5555555555555556,\"#d8576b\"],[0.6666666666666666,\"#ed7953\"],[0.7777777777777778,\"#fb9f3a\"],[0.8888888888888888,\"#fdca26\"],[1.0,\"#f0f921\"]],\"diverging\":[[0,\"#8e0152\"],[0.1,\"#c51b7d\"],[0.2,\"#de77ae\"],[0.3,\"#f1b6da\"],[0.4,\"#fde0ef\"],[0.5,\"#f7f7f7\"],[0.6,\"#e6f5d0\"],[0.7,\"#b8e186\"],[0.8,\"#7fbc41\"],[0.9,\"#4d9221\"],[1,\"#276419\"]]},\"xaxis\":{\"gridcolor\":\"white\",\"linecolor\":\"white\",\"ticks\":\"\",\"title\":{\"standoff\":15},\"zerolinecolor\":\"white\",\"automargin\":true,\"zerolinewidth\":2},\"yaxis\":{\"gridcolor\":\"white\",\"linecolor\":\"white\",\"ticks\":\"\",\"title\":{\"standoff\":15},\"zerolinecolor\":\"white\",\"automargin\":true,\"zerolinewidth\":2},\"scene\":{\"xaxis\":{\"backgroundcolor\":\"#E5ECF6\",\"gridcolor\":\"white\",\"linecolor\":\"white\",\"showbackground\":true,\"ticks\":\"\",\"zerolinecolor\":\"white\",\"gridwidth\":2},\"yaxis\":{\"backgroundcolor\":\"#E5ECF6\",\"gridcolor\":\"white\",\"linecolor\":\"white\",\"showbackground\":true,\"ticks\":\"\",\"zerolinecolor\":\"white\",\"gridwidth\":2},\"zaxis\":{\"backgroundcolor\":\"#E5ECF6\",\"gridcolor\":\"white\",\"linecolor\":\"white\",\"showbackground\":true,\"ticks\":\"\",\"zerolinecolor\":\"white\",\"gridwidth\":2}},\"shapedefaults\":{\"line\":{\"color\":\"#2a3f5f\"}},\"annotationdefaults\":{\"arrowcolor\":\"#2a3f5f\",\"arrowhead\":0,\"arrowwidth\":1},\"geo\":{\"bgcolor\":\"white\",\"landcolor\":\"#E5ECF6\",\"subunitcolor\":\"white\",\"showland\":true,\"showlakes\":true,\"lakecolor\":\"white\"},\"title\":{\"x\":0.05},\"mapbox\":{\"style\":\"light\"}}},\"xaxis\":{\"anchor\":\"y\",\"domain\":[0.0,1.0],\"title\":{\"text\":\"PAKISTAN\"}},\"yaxis\":{\"anchor\":\"x\",\"domain\":[0.0,1.0],\"title\":{\"text\":\"FOREX Prices\"}},\"legend\":{\"title\":{\"text\":\"Legend\"},\"tracegroupgap\":0},\"title\":{\"text\":\"ARIMA Fitted Values vs. History Data for PAKISTAN\"}},                        {\"responsive\": true}                    ).then(function(){\n",
              "                            \n",
              "var gd = document.getElementById('460a0af6-a949-487b-b4c0-ffe1fc001cad');\n",
              "var x = new MutationObserver(function (mutations, observer) {{\n",
              "        var display = window.getComputedStyle(gd).display;\n",
              "        if (!display || display === 'none') {{\n",
              "            console.log([gd, 'removed!']);\n",
              "            Plotly.purge(gd);\n",
              "            observer.disconnect();\n",
              "        }}\n",
              "}});\n",
              "\n",
              "// Listen for the removal of the full notebook cells\n",
              "var notebookContainer = gd.closest('#notebook-container');\n",
              "if (notebookContainer) {{\n",
              "    x.observe(notebookContainer, {childList: true});\n",
              "}}\n",
              "\n",
              "// Listen for the clearing of the current output cell\n",
              "var outputEl = gd.closest('.output');\n",
              "if (outputEl) {{\n",
              "    x.observe(outputEl, {childList: true});\n",
              "}}\n",
              "\n",
              "                        })                };                            </script>        </div>\n",
              "</body>\n",
              "</html>"
            ]
          },
          "metadata": {}
        }
      ]
    }
  ]
}