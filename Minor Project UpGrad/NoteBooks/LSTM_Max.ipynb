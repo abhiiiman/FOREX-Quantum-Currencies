{
  "cells": [
    {
      "cell_type": "code",
      "execution_count": 44,
      "metadata": {
        "id": "LPP2JI_m__24"
      },
      "outputs": [],
      "source": [
        "import pandas as pd\n",
        "import numpy as np\n",
        "import matplotlib.pyplot as plt\n",
        "\n",
        "import warnings\n",
        "warnings.filterwarnings('ignore')"
      ]
    },
    {
      "cell_type": "code",
      "execution_count": 45,
      "metadata": {
        "colab": {
          "base_uri": "https://localhost:8080/",
          "height": 461
        },
        "id": "XAufv0ZaAZTs",
        "outputId": "4d1f6b09-c9c8-46de-ef28-3fdb7bb6ba56"
      },
      "outputs": [
        {
          "data": {
            "text/html": [
              "<div>\n",
              "<style scoped>\n",
              "    .dataframe tbody tr th:only-of-type {\n",
              "        vertical-align: middle;\n",
              "    }\n",
              "\n",
              "    .dataframe tbody tr th {\n",
              "        vertical-align: top;\n",
              "    }\n",
              "\n",
              "    .dataframe thead th {\n",
              "        text-align: right;\n",
              "    }\n",
              "</style>\n",
              "<table border=\"1\" class=\"dataframe\">\n",
              "  <thead>\n",
              "    <tr style=\"text-align: right;\">\n",
              "      <th></th>\n",
              "      <th>Date_Quarter</th>\n",
              "      <th>AFGHANISTAN</th>\n",
              "      <th>ALBANIA</th>\n",
              "      <th>ALGERIA</th>\n",
              "      <th>ANGOLA</th>\n",
              "      <th>ANTIGUA-BARBUDA</th>\n",
              "      <th>ARGENTINA</th>\n",
              "      <th>ARMENIA</th>\n",
              "      <th>AUSTRALIA</th>\n",
              "      <th>AUSTRIA</th>\n",
              "      <th>...</th>\n",
              "      <th>UZBEKISTAN</th>\n",
              "      <th>VANUATU</th>\n",
              "      <th>VENEZUELA</th>\n",
              "      <th>VIETNAM</th>\n",
              "      <th>WESTERN SAMOA</th>\n",
              "      <th>YEMEN</th>\n",
              "      <th>YUGOSLAVIA</th>\n",
              "      <th>ZAMBIA</th>\n",
              "      <th>ZAMBIA.1</th>\n",
              "      <th>ZIMBABWE</th>\n",
              "    </tr>\n",
              "  </thead>\n",
              "  <tbody>\n",
              "    <tr>\n",
              "      <th>0</th>\n",
              "      <td>2001-01-01</td>\n",
              "      <td>78400.00</td>\n",
              "      <td>142.40</td>\n",
              "      <td>76.539</td>\n",
              "      <td>19.706</td>\n",
              "      <td>2.7</td>\n",
              "      <td>1.000</td>\n",
              "      <td>550.00</td>\n",
              "      <td>1.903</td>\n",
              "      <td>1.083</td>\n",
              "      <td>...</td>\n",
              "      <td>793.5</td>\n",
              "      <td>142.45</td>\n",
              "      <td>704.00</td>\n",
              "      <td>14562.0</td>\n",
              "      <td>3.280</td>\n",
              "      <td>165.0</td>\n",
              "      <td>64.8000</td>\n",
              "      <td>3520.0</td>\n",
              "      <td>21.5252</td>\n",
              "      <td>80.0</td>\n",
              "    </tr>\n",
              "    <tr>\n",
              "      <th>1</th>\n",
              "      <td>2001-05-01</td>\n",
              "      <td>73000.00</td>\n",
              "      <td>149.00</td>\n",
              "      <td>78.101</td>\n",
              "      <td>19.706</td>\n",
              "      <td>2.7</td>\n",
              "      <td>1.000</td>\n",
              "      <td>554.68</td>\n",
              "      <td>1.979</td>\n",
              "      <td>1.181</td>\n",
              "      <td>...</td>\n",
              "      <td>793.5</td>\n",
              "      <td>145.89</td>\n",
              "      <td>714.00</td>\n",
              "      <td>14659.0</td>\n",
              "      <td>3.280</td>\n",
              "      <td>168.0</td>\n",
              "      <td>63.3102</td>\n",
              "      <td>3420.0</td>\n",
              "      <td>29.4134</td>\n",
              "      <td>118.0</td>\n",
              "    </tr>\n",
              "    <tr>\n",
              "      <th>2</th>\n",
              "      <td>2001-09-01</td>\n",
              "      <td>71500.00</td>\n",
              "      <td>142.00</td>\n",
              "      <td>76.429</td>\n",
              "      <td>20.389</td>\n",
              "      <td>2.7</td>\n",
              "      <td>1.000</td>\n",
              "      <td>557.00</td>\n",
              "      <td>1.894</td>\n",
              "      <td>1.100</td>\n",
              "      <td>...</td>\n",
              "      <td>850.0</td>\n",
              "      <td>145.89</td>\n",
              "      <td>736.00</td>\n",
              "      <td>14991.0</td>\n",
              "      <td>3.344</td>\n",
              "      <td>170.0</td>\n",
              "      <td>65.5330</td>\n",
              "      <td>3570.0</td>\n",
              "      <td>57.7216</td>\n",
              "      <td>260.0</td>\n",
              "    </tr>\n",
              "    <tr>\n",
              "      <th>3</th>\n",
              "      <td>2001-12-01</td>\n",
              "      <td>38200.00</td>\n",
              "      <td>136.30</td>\n",
              "      <td>78.078</td>\n",
              "      <td>30.044</td>\n",
              "      <td>2.7</td>\n",
              "      <td>1.000</td>\n",
              "      <td>565.00</td>\n",
              "      <td>1.955</td>\n",
              "      <td>1.122</td>\n",
              "      <td>...</td>\n",
              "      <td>890.0</td>\n",
              "      <td>145.89</td>\n",
              "      <td>757.00</td>\n",
              "      <td>15081.0</td>\n",
              "      <td>3.496</td>\n",
              "      <td>173.0</td>\n",
              "      <td>65.5330</td>\n",
              "      <td>3735.0</td>\n",
              "      <td>74.8046</td>\n",
              "      <td>345.0</td>\n",
              "    </tr>\n",
              "    <tr>\n",
              "      <th>4</th>\n",
              "      <td>2002-01-01</td>\n",
              "      <td>35000.00</td>\n",
              "      <td>139.81</td>\n",
              "      <td>78.319</td>\n",
              "      <td>34.320</td>\n",
              "      <td>2.7</td>\n",
              "      <td>2.080</td>\n",
              "      <td>566.00</td>\n",
              "      <td>1.935</td>\n",
              "      <td>1.153</td>\n",
              "      <td>...</td>\n",
              "      <td>960.0</td>\n",
              "      <td>145.89</td>\n",
              "      <td>1015.00</td>\n",
              "      <td>15139.0</td>\n",
              "      <td>3.484</td>\n",
              "      <td>173.0</td>\n",
              "      <td>66.7960</td>\n",
              "      <td>4300.0</td>\n",
              "      <td>71.8046</td>\n",
              "      <td>330.0</td>\n",
              "    </tr>\n",
              "    <tr>\n",
              "      <th>...</th>\n",
              "      <td>...</td>\n",
              "      <td>...</td>\n",
              "      <td>...</td>\n",
              "      <td>...</td>\n",
              "      <td>...</td>\n",
              "      <td>...</td>\n",
              "      <td>...</td>\n",
              "      <td>...</td>\n",
              "      <td>...</td>\n",
              "      <td>...</td>\n",
              "      <td>...</td>\n",
              "      <td>...</td>\n",
              "      <td>...</td>\n",
              "      <td>...</td>\n",
              "      <td>...</td>\n",
              "      <td>...</td>\n",
              "      <td>...</td>\n",
              "      <td>...</td>\n",
              "      <td>...</td>\n",
              "      <td>...</td>\n",
              "      <td>...</td>\n",
              "    </tr>\n",
              "    <tr>\n",
              "      <th>58</th>\n",
              "      <td>2015-09-01</td>\n",
              "      <td>63.80</td>\n",
              "      <td>123.99</td>\n",
              "      <td>105.739</td>\n",
              "      <td>145.000</td>\n",
              "      <td>2.7</td>\n",
              "      <td>9.420</td>\n",
              "      <td>475.00</td>\n",
              "      <td>1.423</td>\n",
              "      <td>0.892</td>\n",
              "      <td>...</td>\n",
              "      <td>2664.0</td>\n",
              "      <td>110.24</td>\n",
              "      <td>6.30</td>\n",
              "      <td>22475.0</td>\n",
              "      <td>2.584</td>\n",
              "      <td>214.5</td>\n",
              "      <td>102.7278</td>\n",
              "      <td>5455.0</td>\n",
              "      <td>12.1150</td>\n",
              "      <td>1.0</td>\n",
              "    </tr>\n",
              "    <tr>\n",
              "      <th>59</th>\n",
              "      <td>2015-12-01</td>\n",
              "      <td>67.90</td>\n",
              "      <td>125.54</td>\n",
              "      <td>106.878</td>\n",
              "      <td>145.000</td>\n",
              "      <td>2.7</td>\n",
              "      <td>12.946</td>\n",
              "      <td>484.00</td>\n",
              "      <td>1.368</td>\n",
              "      <td>0.919</td>\n",
              "      <td>...</td>\n",
              "      <td>2857.0</td>\n",
              "      <td>108.55</td>\n",
              "      <td>6.30</td>\n",
              "      <td>22480.0</td>\n",
              "      <td>2.502</td>\n",
              "      <td>214.5</td>\n",
              "      <td>103.0056</td>\n",
              "      <td>5455.0</td>\n",
              "      <td>10.9900</td>\n",
              "      <td>1.0</td>\n",
              "    </tr>\n",
              "    <tr>\n",
              "      <th>60</th>\n",
              "      <td>2016-01-01</td>\n",
              "      <td>68.45</td>\n",
              "      <td>121.35</td>\n",
              "      <td>108.301</td>\n",
              "      <td>160.000</td>\n",
              "      <td>2.7</td>\n",
              "      <td>14.593</td>\n",
              "      <td>480.00</td>\n",
              "      <td>1.298</td>\n",
              "      <td>0.878</td>\n",
              "      <td>...</td>\n",
              "      <td>2925.0</td>\n",
              "      <td>104.37</td>\n",
              "      <td>270.47</td>\n",
              "      <td>22286.0</td>\n",
              "      <td>2.470</td>\n",
              "      <td>214.5</td>\n",
              "      <td>103.9202</td>\n",
              "      <td>5455.0</td>\n",
              "      <td>11.0300</td>\n",
              "      <td>1.0</td>\n",
              "    </tr>\n",
              "    <tr>\n",
              "      <th>61</th>\n",
              "      <td>2016-05-01</td>\n",
              "      <td>68.22</td>\n",
              "      <td>123.16</td>\n",
              "      <td>109.866</td>\n",
              "      <td>170.000</td>\n",
              "      <td>2.7</td>\n",
              "      <td>14.951</td>\n",
              "      <td>480.00</td>\n",
              "      <td>1.344</td>\n",
              "      <td>0.900</td>\n",
              "      <td>...</td>\n",
              "      <td>2993.0</td>\n",
              "      <td>109.10</td>\n",
              "      <td>626.01</td>\n",
              "      <td>22281.0</td>\n",
              "      <td>2.462</td>\n",
              "      <td>250.5</td>\n",
              "      <td>105.3232</td>\n",
              "      <td>5455.0</td>\n",
              "      <td>9.8000</td>\n",
              "      <td>1.0</td>\n",
              "    </tr>\n",
              "    <tr>\n",
              "      <th>62</th>\n",
              "      <td>2016-09-01</td>\n",
              "      <td>65.35</td>\n",
              "      <td>122.77</td>\n",
              "      <td>109.350</td>\n",
              "      <td>170.000</td>\n",
              "      <td>2.7</td>\n",
              "      <td>15.350</td>\n",
              "      <td>474.00</td>\n",
              "      <td>1.313</td>\n",
              "      <td>0.896</td>\n",
              "      <td>...</td>\n",
              "      <td>3061.0</td>\n",
              "      <td>105.09</td>\n",
              "      <td>657.55</td>\n",
              "      <td>22303.0</td>\n",
              "      <td>2.433</td>\n",
              "      <td>250.5</td>\n",
              "      <td>105.3440</td>\n",
              "      <td>5455.0</td>\n",
              "      <td>10.0150</td>\n",
              "      <td>1.0</td>\n",
              "    </tr>\n",
              "  </tbody>\n",
              "</table>\n",
              "<p>63 rows × 222 columns</p>\n",
              "</div>"
            ],
            "text/plain": [
              "   Date_Quarter  AFGHANISTAN  ALBANIA  ALGERIA   ANGOLA  ANTIGUA-BARBUDA  \\\n",
              "0    2001-01-01     78400.00   142.40   76.539   19.706              2.7   \n",
              "1    2001-05-01     73000.00   149.00   78.101   19.706              2.7   \n",
              "2    2001-09-01     71500.00   142.00   76.429   20.389              2.7   \n",
              "3    2001-12-01     38200.00   136.30   78.078   30.044              2.7   \n",
              "4    2002-01-01     35000.00   139.81   78.319   34.320              2.7   \n",
              "..          ...          ...      ...      ...      ...              ...   \n",
              "58   2015-09-01        63.80   123.99  105.739  145.000              2.7   \n",
              "59   2015-12-01        67.90   125.54  106.878  145.000              2.7   \n",
              "60   2016-01-01        68.45   121.35  108.301  160.000              2.7   \n",
              "61   2016-05-01        68.22   123.16  109.866  170.000              2.7   \n",
              "62   2016-09-01        65.35   122.77  109.350  170.000              2.7   \n",
              "\n",
              "    ARGENTINA  ARMENIA  AUSTRALIA  AUSTRIA  ...  UZBEKISTAN  VANUATU  \\\n",
              "0       1.000   550.00      1.903    1.083  ...       793.5   142.45   \n",
              "1       1.000   554.68      1.979    1.181  ...       793.5   145.89   \n",
              "2       1.000   557.00      1.894    1.100  ...       850.0   145.89   \n",
              "3       1.000   565.00      1.955    1.122  ...       890.0   145.89   \n",
              "4       2.080   566.00      1.935    1.153  ...       960.0   145.89   \n",
              "..        ...      ...        ...      ...  ...         ...      ...   \n",
              "58      9.420   475.00      1.423    0.892  ...      2664.0   110.24   \n",
              "59     12.946   484.00      1.368    0.919  ...      2857.0   108.55   \n",
              "60     14.593   480.00      1.298    0.878  ...      2925.0   104.37   \n",
              "61     14.951   480.00      1.344    0.900  ...      2993.0   109.10   \n",
              "62     15.350   474.00      1.313    0.896  ...      3061.0   105.09   \n",
              "\n",
              "    VENEZUELA  VIETNAM  WESTERN SAMOA  YEMEN  YUGOSLAVIA  ZAMBIA  ZAMBIA.1  \\\n",
              "0      704.00  14562.0          3.280  165.0     64.8000  3520.0   21.5252   \n",
              "1      714.00  14659.0          3.280  168.0     63.3102  3420.0   29.4134   \n",
              "2      736.00  14991.0          3.344  170.0     65.5330  3570.0   57.7216   \n",
              "3      757.00  15081.0          3.496  173.0     65.5330  3735.0   74.8046   \n",
              "4     1015.00  15139.0          3.484  173.0     66.7960  4300.0   71.8046   \n",
              "..        ...      ...            ...    ...         ...     ...       ...   \n",
              "58       6.30  22475.0          2.584  214.5    102.7278  5455.0   12.1150   \n",
              "59       6.30  22480.0          2.502  214.5    103.0056  5455.0   10.9900   \n",
              "60     270.47  22286.0          2.470  214.5    103.9202  5455.0   11.0300   \n",
              "61     626.01  22281.0          2.462  250.5    105.3232  5455.0    9.8000   \n",
              "62     657.55  22303.0          2.433  250.5    105.3440  5455.0   10.0150   \n",
              "\n",
              "    ZIMBABWE  \n",
              "0       80.0  \n",
              "1      118.0  \n",
              "2      260.0  \n",
              "3      345.0  \n",
              "4      330.0  \n",
              "..       ...  \n",
              "58       1.0  \n",
              "59       1.0  \n",
              "60       1.0  \n",
              "61       1.0  \n",
              "62       1.0  \n",
              "\n",
              "[63 rows x 222 columns]"
            ]
          },
          "execution_count": 45,
          "metadata": {},
          "output_type": "execute_result"
        }
      ],
      "source": [
        "# df = pd.read_csv('/content/drive/MyDrive/ForEX - ML 2 Minor Project/my_file.csv')\n",
        "df = pd.read_csv('my_file.csv')\n",
        "df"
      ]
    },
    {
      "cell_type": "code",
      "execution_count": 46,
      "metadata": {
        "id": "om6lVXhVCncu"
      },
      "outputs": [],
      "source": [
        "country = 'INDIA'"
      ]
    },
    {
      "cell_type": "code",
      "execution_count": 47,
      "metadata": {
        "colab": {
          "base_uri": "https://localhost:8080/",
          "height": 423
        },
        "id": "EnJVRaQkBkvm",
        "outputId": "c70b92a2-fd4a-4313-900d-2a28a4de4a67"
      },
      "outputs": [
        {
          "data": {
            "text/html": [
              "<div>\n",
              "<style scoped>\n",
              "    .dataframe tbody tr th:only-of-type {\n",
              "        vertical-align: middle;\n",
              "    }\n",
              "\n",
              "    .dataframe tbody tr th {\n",
              "        vertical-align: top;\n",
              "    }\n",
              "\n",
              "    .dataframe thead th {\n",
              "        text-align: right;\n",
              "    }\n",
              "</style>\n",
              "<table border=\"1\" class=\"dataframe\">\n",
              "  <thead>\n",
              "    <tr style=\"text-align: right;\">\n",
              "      <th></th>\n",
              "      <th>Date_Quarter</th>\n",
              "      <th>INDIA</th>\n",
              "    </tr>\n",
              "  </thead>\n",
              "  <tbody>\n",
              "    <tr>\n",
              "      <th>0</th>\n",
              "      <td>2001-01-01</td>\n",
              "      <td>46.50</td>\n",
              "    </tr>\n",
              "    <tr>\n",
              "      <th>1</th>\n",
              "      <td>2001-05-01</td>\n",
              "      <td>46.80</td>\n",
              "    </tr>\n",
              "    <tr>\n",
              "      <th>2</th>\n",
              "      <td>2001-09-01</td>\n",
              "      <td>47.00</td>\n",
              "    </tr>\n",
              "    <tr>\n",
              "      <th>3</th>\n",
              "      <td>2001-12-01</td>\n",
              "      <td>47.90</td>\n",
              "    </tr>\n",
              "    <tr>\n",
              "      <th>4</th>\n",
              "      <td>2002-01-01</td>\n",
              "      <td>48.55</td>\n",
              "    </tr>\n",
              "    <tr>\n",
              "      <th>...</th>\n",
              "      <td>...</td>\n",
              "      <td>...</td>\n",
              "    </tr>\n",
              "    <tr>\n",
              "      <th>58</th>\n",
              "      <td>2015-09-01</td>\n",
              "      <td>66.00</td>\n",
              "    </tr>\n",
              "    <tr>\n",
              "      <th>59</th>\n",
              "      <td>2015-12-01</td>\n",
              "      <td>66.10</td>\n",
              "    </tr>\n",
              "    <tr>\n",
              "      <th>60</th>\n",
              "      <td>2016-01-01</td>\n",
              "      <td>65.90</td>\n",
              "    </tr>\n",
              "    <tr>\n",
              "      <th>61</th>\n",
              "      <td>2016-05-01</td>\n",
              "      <td>67.40</td>\n",
              "    </tr>\n",
              "    <tr>\n",
              "      <th>62</th>\n",
              "      <td>2016-09-01</td>\n",
              "      <td>66.55</td>\n",
              "    </tr>\n",
              "  </tbody>\n",
              "</table>\n",
              "<p>63 rows × 2 columns</p>\n",
              "</div>"
            ],
            "text/plain": [
              "   Date_Quarter  INDIA\n",
              "0    2001-01-01  46.50\n",
              "1    2001-05-01  46.80\n",
              "2    2001-09-01  47.00\n",
              "3    2001-12-01  47.90\n",
              "4    2002-01-01  48.55\n",
              "..          ...    ...\n",
              "58   2015-09-01  66.00\n",
              "59   2015-12-01  66.10\n",
              "60   2016-01-01  65.90\n",
              "61   2016-05-01  67.40\n",
              "62   2016-09-01  66.55\n",
              "\n",
              "[63 rows x 2 columns]"
            ]
          },
          "execution_count": 47,
          "metadata": {},
          "output_type": "execute_result"
        }
      ],
      "source": [
        "df_country = df[['Date_Quarter', country]]\n",
        "df_country"
      ]
    },
    {
      "cell_type": "code",
      "execution_count": 48,
      "metadata": {
        "colab": {
          "base_uri": "https://localhost:8080/",
          "height": 576
        },
        "id": "Y8HmPzzhArxG",
        "outputId": "6771ce37-c995-41aa-b6cd-0523bb1bb471"
      },
      "outputs": [
        {
          "data": {
            "image/png": "[encoded data removed]",
            "text/plain": [
              "<Figure size 1200x600 with 1 Axes>"
            ]
          },
          "metadata": {},
          "output_type": "display_data"
        }
      ],
      "source": [
        "plt.figure(figsize=(12, 6))\n",
        "plt.plot(df_country['Date_Quarter'], df_country['INDIA'], marker='o', linestyle='-')\n",
        "plt.title(f'Exchange Rates for {country} Over Time')\n",
        "plt.xlabel('Quarter')\n",
        "plt.ylabel('Exchange Rate')\n",
        "plt.grid(True)\n",
        "plt.xticks(rotation=45)\n",
        "plt.tight_layout()\n",
        "plt.show()"
      ]
    },
    {
      "cell_type": "code",
      "execution_count": 49,
      "metadata": {
        "colab": {
          "base_uri": "https://localhost:8080/"
        },
        "id": "bR32qIgeBNfI",
        "outputId": "7997fcb5-deef-4723-b2da-0d077caf2298"
      },
      "outputs": [
        {
          "data": {
            "text/plain": [
              "0        NaN\n",
              "1        NaN\n",
              "2        NaN\n",
              "3        NaN\n",
              "4        NaN\n",
              "       ...  \n",
              "58    62.130\n",
              "59    62.785\n",
              "60    63.125\n",
              "61    63.715\n",
              "62    64.195\n",
              "Name: INDIA, Length: 63, dtype: float64"
            ]
          },
          "execution_count": 49,
          "metadata": {},
          "output_type": "execute_result"
        }
      ],
      "source": [
        "ma10 = df_country[f'{country}'].rolling(10).mean()\n",
        "ma10"
      ]
    },
    {
      "cell_type": "code",
      "execution_count": 50,
      "metadata": {
        "colab": {
          "base_uri": "https://localhost:8080/",
          "height": 581
        },
        "id": "uN_OSjDDDZAX",
        "outputId": "07f51c6c-b366-46c1-e6c7-957b50dcc7b3"
      },
      "outputs": [
        {
          "data": {
            "text/plain": [
              "Text(0, 0.5, 'Exchange Rate')"
            ]
          },
          "execution_count": 50,
          "metadata": {},
          "output_type": "execute_result"
        },
        {
          "data": {
            "image/png": "[encoded data removed]",
            "text/plain": [
              "<Figure size 1200x600 with 1 Axes>"
            ]
          },
          "metadata": {},
          "output_type": "display_data"
        }
      ],
      "source": [
        "plt.figure(figsize = (12, 6))\n",
        "plt.plot(df_country[f'{country}'])\n",
        "plt.plot(ma10, 'r')\n",
        "plt.title(f'Exchange Rates for {country} Over Time with MA-10')\n",
        "plt.xlabel('Time')\n",
        "plt.ylabel('Exchange Rate')"
      ]
    },
    {
      "cell_type": "code",
      "execution_count": 51,
      "metadata": {
        "colab": {
          "base_uri": "https://localhost:8080/"
        },
        "id": "k_P8aZgVEG7D",
        "outputId": "1e4802c2-65e8-43bb-f14c-9b3953de03bf"
      },
      "outputs": [
        {
          "data": {
            "text/plain": [
              "0         NaN\n",
              "1         NaN\n",
              "2         NaN\n",
              "3         NaN\n",
              "4         NaN\n",
              "       ...   \n",
              "58    56.2500\n",
              "59    57.2700\n",
              "60    58.3175\n",
              "61    59.4650\n",
              "62    60.3625\n",
              "Name: INDIA, Length: 63, dtype: float64"
            ]
          },
          "execution_count": 51,
          "metadata": {},
          "output_type": "execute_result"
        }
      ],
      "source": [
        "ma20 = df_country[f'{country}'].rolling(20).mean()\n",
        "ma20"
      ]
    },
    {
      "cell_type": "code",
      "execution_count": 52,
      "metadata": {
        "colab": {
          "base_uri": "https://localhost:8080/",
          "height": 581
        },
        "id": "_3qNNXi9EJpj",
        "outputId": "2ac3f8e6-95c3-4345-b421-52ff39489ba6"
      },
      "outputs": [
        {
          "data": {
            "text/plain": [
              "Text(0, 0.5, 'Exchange Rate')"
            ]
          },
          "execution_count": 52,
          "metadata": {},
          "output_type": "execute_result"
        },
        {
          "data": {
            "image/png": "[encoded data removed]",
            "text/plain": [
              "<Figure size 1200x600 with 1 Axes>"
            ]
          },
          "metadata": {},
          "output_type": "display_data"
        }
      ],
      "source": [
        "plt.figure(figsize = (12, 6))\n",
        "plt.plot(df_country[f'{country}'])\n",
        "plt.plot(ma10, 'r')\n",
        "plt.plot(ma20, 'g')\n",
        "plt.title(f'Exchange Rates for {country} Over Time with MA-10 & MA-20')\n",
        "plt.xlabel('Time')\n",
        "plt.ylabel('Exchange Rate')"
      ]
    },
    {
      "cell_type": "code",
      "execution_count": 53,
      "metadata": {
        "colab": {
          "base_uri": "https://localhost:8080/"
        },
        "id": "L29C1gyDETBI",
        "outputId": "db9be800-ed31-4c21-c855-8fc141fe77a5"
      },
      "outputs": [
        {
          "name": "stdout",
          "output_type": "stream",
          "text": [
            "(44, 1)\n",
            "(19, 1)\n"
          ]
        }
      ],
      "source": [
        "# Splitting Data into Training and Testing -> 70-30 split\n",
        "\n",
        "data_training = pd.DataFrame(df_country[f'{country}'][0:int(len(df_country)*0.70)])\n",
        "data_testing = pd.DataFrame(df_country[f'{country}'][int(len(df_country)*0.70):int(len(df_country))])\n",
        "\n",
        "print(data_training.shape)\n",
        "print(data_testing.shape)"
      ]
    },
    {
      "cell_type": "code",
      "execution_count": 54,
      "metadata": {
        "colab": {
          "base_uri": "https://localhost:8080/",
          "height": 206
        },
        "id": "wRZjqsRNFMS3",
        "outputId": "f94aebc2-a0ee-4dfc-d1d5-e29929badf3a"
      },
      "outputs": [
        {
          "data": {
            "text/html": [
              "<div>\n",
              "<style scoped>\n",
              "    .dataframe tbody tr th:only-of-type {\n",
              "        vertical-align: middle;\n",
              "    }\n",
              "\n",
              "    .dataframe tbody tr th {\n",
              "        vertical-align: top;\n",
              "    }\n",
              "\n",
              "    .dataframe thead th {\n",
              "        text-align: right;\n",
              "    }\n",
              "</style>\n",
              "<table border=\"1\" class=\"dataframe\">\n",
              "  <thead>\n",
              "    <tr style=\"text-align: right;\">\n",
              "      <th></th>\n",
              "      <th>INDIA</th>\n",
              "    </tr>\n",
              "  </thead>\n",
              "  <tbody>\n",
              "    <tr>\n",
              "      <th>0</th>\n",
              "      <td>46.50</td>\n",
              "    </tr>\n",
              "    <tr>\n",
              "      <th>1</th>\n",
              "      <td>46.80</td>\n",
              "    </tr>\n",
              "    <tr>\n",
              "      <th>2</th>\n",
              "      <td>47.00</td>\n",
              "    </tr>\n",
              "    <tr>\n",
              "      <th>3</th>\n",
              "      <td>47.90</td>\n",
              "    </tr>\n",
              "    <tr>\n",
              "      <th>4</th>\n",
              "      <td>48.55</td>\n",
              "    </tr>\n",
              "  </tbody>\n",
              "</table>\n",
              "</div>"
            ],
            "text/plain": [
              "   INDIA\n",
              "0  46.50\n",
              "1  46.80\n",
              "2  47.00\n",
              "3  47.90\n",
              "4  48.55"
            ]
          },
          "execution_count": 54,
          "metadata": {},
          "output_type": "execute_result"
        }
      ],
      "source": [
        "data_training.head()"
      ]
    },
    {
      "cell_type": "code",
      "execution_count": 55,
      "metadata": {
        "colab": {
          "base_uri": "https://localhost:8080/",
          "height": 206
        },
        "id": "UpChxXoAFQJe",
        "outputId": "bd094fd7-1847-4eab-ead4-fadb940e0319"
      },
      "outputs": [
        {
          "data": {
            "text/html": [
              "<div>\n",
              "<style scoped>\n",
              "    .dataframe tbody tr th:only-of-type {\n",
              "        vertical-align: middle;\n",
              "    }\n",
              "\n",
              "    .dataframe tbody tr th {\n",
              "        vertical-align: top;\n",
              "    }\n",
              "\n",
              "    .dataframe thead th {\n",
              "        text-align: right;\n",
              "    }\n",
              "</style>\n",
              "<table border=\"1\" class=\"dataframe\">\n",
              "  <thead>\n",
              "    <tr style=\"text-align: right;\">\n",
              "      <th></th>\n",
              "      <th>INDIA</th>\n",
              "    </tr>\n",
              "  </thead>\n",
              "  <tbody>\n",
              "    <tr>\n",
              "      <th>44</th>\n",
              "      <td>50.80</td>\n",
              "    </tr>\n",
              "    <tr>\n",
              "      <th>45</th>\n",
              "      <td>56.00</td>\n",
              "    </tr>\n",
              "    <tr>\n",
              "      <th>46</th>\n",
              "      <td>52.35</td>\n",
              "    </tr>\n",
              "    <tr>\n",
              "      <th>47</th>\n",
              "      <td>54.45</td>\n",
              "    </tr>\n",
              "    <tr>\n",
              "      <th>48</th>\n",
              "      <td>54.15</td>\n",
              "    </tr>\n",
              "  </tbody>\n",
              "</table>\n",
              "</div>"
            ],
            "text/plain": [
              "    INDIA\n",
              "44  50.80\n",
              "45  56.00\n",
              "46  52.35\n",
              "47  54.45\n",
              "48  54.15"
            ]
          },
          "execution_count": 55,
          "metadata": {},
          "output_type": "execute_result"
        }
      ],
      "source": [
        "data_testing.head()"
      ]
    },
    {
      "cell_type": "code",
      "execution_count": 56,
      "metadata": {
        "id": "iMCPGwMrFRue"
      },
      "outputs": [],
      "source": [
        "# Scaling the Data between (0,1)\n",
        "\n",
        "from sklearn.preprocessing import MinMaxScaler\n",
        "scaler = MinMaxScaler(feature_range = (0,1))"
      ]
    },
    {
      "cell_type": "code",
      "execution_count": 57,
      "metadata": {
        "colab": {
          "base_uri": "https://localhost:8080/"
        },
        "id": "__g93SgpFwSE",
        "outputId": "fbc86545-85ef-4940-8fbf-3d4a7c3e701c"
      },
      "outputs": [
        {
          "data": {
            "text/plain": [
              "array([[0.54724409],\n",
              "       [0.57086614],\n",
              "       [0.58661417],\n",
              "       [0.65748031],\n",
              "       [0.70866142],\n",
              "       [0.72834646],\n",
              "       [0.69527559],\n",
              "       [0.65275591],\n",
              "       [0.62755906],\n",
              "       [0.57716535],\n",
              "       [0.48425197],\n",
              "       [0.46062992],\n",
              "       [0.34094488],\n",
              "       [0.43700787],\n",
              "       [0.52204724],\n",
              "       [0.3976378 ],\n",
              "       [0.30708661],\n",
              "       [0.30708661],\n",
              "       [0.33070866],\n",
              "       [0.42125984],\n",
              "       [0.37795276],\n",
              "       [0.51574803],\n",
              "       [0.53149606],\n",
              "       [0.35433071],\n",
              "       [0.07874016],\n",
              "       [0.07874016],\n",
              "       [0.10629921],\n",
              "       [0.        ],\n",
              "       [0.01181102],\n",
              "       [0.22440945],\n",
              "       [0.7007874 ],\n",
              "       [0.68110236],\n",
              "       [0.8503937 ],\n",
              "       [0.63779528],\n",
              "       [0.71259843],\n",
              "       [0.53937008],\n",
              "       [0.42519685],\n",
              "       [0.53149606],\n",
              "       [0.56692913],\n",
              "       [0.48425197],\n",
              "       [0.42519685],\n",
              "       [0.38582677],\n",
              "       [0.71259843],\n",
              "       [1.        ]])"
            ]
          },
          "execution_count": 57,
          "metadata": {},
          "output_type": "execute_result"
        }
      ],
      "source": [
        "data_training_array = scaler.fit_transform(data_training)\n",
        "data_training_array"
      ]
    },
    {
      "cell_type": "code",
      "execution_count": 58,
      "metadata": {
        "colab": {
          "base_uri": "https://localhost:8080/"
        },
        "id": "oNZp2XtXGObj",
        "outputId": "b80ba3d4-083d-4940-c31f-ae69ba250645"
      },
      "outputs": [
        {
          "data": {
            "text/plain": [
              "(44, 1)"
            ]
          },
          "execution_count": 58,
          "metadata": {},
          "output_type": "execute_result"
        }
      ],
      "source": [
        "data_training_array.shape"
      ]
    },
    {
      "cell_type": "code",
      "execution_count": 59,
      "metadata": {
        "id": "_qOR05YTGBLd"
      },
      "outputs": [],
      "source": [
        "x_train = []\n",
        "y_train = []\n",
        "\n",
        "for i in range(40, data_training_array.shape[0]):\n",
        "    x_train.append(data_training_array[i-40: i])\n",
        "    y_train.append(data_training_array[i, 0])"
      ]
    },
    {
      "cell_type": "code",
      "execution_count": 60,
      "metadata": {
        "colab": {
          "base_uri": "https://localhost:8080/"
        },
        "id": "49Kj1J0nG-es",
        "outputId": "b6d383b5-41e8-4023-a26f-54ea3e8f3626"
      },
      "outputs": [
        {
          "data": {
            "text/plain": [
              "[array([[0.54724409],\n",
              "        [0.57086614],\n",
              "        [0.58661417],\n",
              "        [0.65748031],\n",
              "        [0.70866142],\n",
              "        [0.72834646],\n",
              "        [0.69527559],\n",
              "        [0.65275591],\n",
              "        [0.62755906],\n",
              "        [0.57716535],\n",
              "        [0.48425197],\n",
              "        [0.46062992],\n",
              "        [0.34094488],\n",
              "        [0.43700787],\n",
              "        [0.52204724],\n",
              "        [0.3976378 ],\n",
              "        [0.30708661],\n",
              "        [0.30708661],\n",
              "        [0.33070866],\n",
              "        [0.42125984],\n",
              "        [0.37795276],\n",
              "        [0.51574803],\n",
              "        [0.53149606],\n",
              "        [0.35433071],\n",
              "        [0.07874016],\n",
              "        [0.07874016],\n",
              "        [0.10629921],\n",
              "        [0.        ],\n",
              "        [0.01181102],\n",
              "        [0.22440945],\n",
              "        [0.7007874 ],\n",
              "        [0.68110236],\n",
              "        [0.8503937 ],\n",
              "        [0.63779528],\n",
              "        [0.71259843],\n",
              "        [0.53937008],\n",
              "        [0.42519685],\n",
              "        [0.53149606],\n",
              "        [0.56692913],\n",
              "        [0.48425197]]),\n",
              " array([[0.57086614],\n",
              "        [0.58661417],\n",
              "        [0.65748031],\n",
              "        [0.70866142],\n",
              "        [0.72834646],\n",
              "        [0.69527559],\n",
              "        [0.65275591],\n",
              "        [0.62755906],\n",
              "        [0.57716535],\n",
              "        [0.48425197],\n",
              "        [0.46062992],\n",
              "        [0.34094488],\n",
              "        [0.43700787],\n",
              "        [0.52204724],\n",
              "        [0.3976378 ],\n",
              "        [0.30708661],\n",
              "        [0.30708661],\n",
              "        [0.33070866],\n",
              "        [0.42125984],\n",
              "        [0.37795276],\n",
              "        [0.51574803],\n",
              "        [0.53149606],\n",
              "        [0.35433071],\n",
              "        [0.07874016],\n",
              "        [0.07874016],\n",
              "        [0.10629921],\n",
              "        [0.        ],\n",
              "        [0.01181102],\n",
              "        [0.22440945],\n",
              "        [0.7007874 ],\n",
              "        [0.68110236],\n",
              "        [0.8503937 ],\n",
              "        [0.63779528],\n",
              "        [0.71259843],\n",
              "        [0.53937008],\n",
              "        [0.42519685],\n",
              "        [0.53149606],\n",
              "        [0.56692913],\n",
              "        [0.48425197],\n",
              "        [0.42519685]]),\n",
              " array([[0.58661417],\n",
              "        [0.65748031],\n",
              "        [0.70866142],\n",
              "        [0.72834646],\n",
              "        [0.69527559],\n",
              "        [0.65275591],\n",
              "        [0.62755906],\n",
              "        [0.57716535],\n",
              "        [0.48425197],\n",
              "        [0.46062992],\n",
              "        [0.34094488],\n",
              "        [0.43700787],\n",
              "        [0.52204724],\n",
              "        [0.3976378 ],\n",
              "        [0.30708661],\n",
              "        [0.30708661],\n",
              "        [0.33070866],\n",
              "        [0.42125984],\n",
              "        [0.37795276],\n",
              "        [0.51574803],\n",
              "        [0.53149606],\n",
              "        [0.35433071],\n",
              "        [0.07874016],\n",
              "        [0.07874016],\n",
              "        [0.10629921],\n",
              "        [0.        ],\n",
              "        [0.01181102],\n",
              "        [0.22440945],\n",
              "        [0.7007874 ],\n",
              "        [0.68110236],\n",
              "        [0.8503937 ],\n",
              "        [0.63779528],\n",
              "        [0.71259843],\n",
              "        [0.53937008],\n",
              "        [0.42519685],\n",
              "        [0.53149606],\n",
              "        [0.56692913],\n",
              "        [0.48425197],\n",
              "        [0.42519685],\n",
              "        [0.38582677]]),\n",
              " array([[0.65748031],\n",
              "        [0.70866142],\n",
              "        [0.72834646],\n",
              "        [0.69527559],\n",
              "        [0.65275591],\n",
              "        [0.62755906],\n",
              "        [0.57716535],\n",
              "        [0.48425197],\n",
              "        [0.46062992],\n",
              "        [0.34094488],\n",
              "        [0.43700787],\n",
              "        [0.52204724],\n",
              "        [0.3976378 ],\n",
              "        [0.30708661],\n",
              "        [0.30708661],\n",
              "        [0.33070866],\n",
              "        [0.42125984],\n",
              "        [0.37795276],\n",
              "        [0.51574803],\n",
              "        [0.53149606],\n",
              "        [0.35433071],\n",
              "        [0.07874016],\n",
              "        [0.07874016],\n",
              "        [0.10629921],\n",
              "        [0.        ],\n",
              "        [0.01181102],\n",
              "        [0.22440945],\n",
              "        [0.7007874 ],\n",
              "        [0.68110236],\n",
              "        [0.8503937 ],\n",
              "        [0.63779528],\n",
              "        [0.71259843],\n",
              "        [0.53937008],\n",
              "        [0.42519685],\n",
              "        [0.53149606],\n",
              "        [0.56692913],\n",
              "        [0.48425197],\n",
              "        [0.42519685],\n",
              "        [0.38582677],\n",
              "        [0.71259843]])]"
            ]
          },
          "execution_count": 60,
          "metadata": {},
          "output_type": "execute_result"
        }
      ],
      "source": [
        "x_train"
      ]
    },
    {
      "cell_type": "code",
      "execution_count": 61,
      "metadata": {
        "colab": {
          "base_uri": "https://localhost:8080/"
        },
        "id": "ahXcrnqUG_IX",
        "outputId": "35de32d5-d82b-45e3-ad43-9758d69ddc05"
      },
      "outputs": [
        {
          "data": {
            "text/plain": [
              "[0.4251968503937009,\n",
              " 0.3858267716535435,\n",
              " 0.7125984251968505,\n",
              " 0.9999999999999996]"
            ]
          },
          "execution_count": 61,
          "metadata": {},
          "output_type": "execute_result"
        }
      ],
      "source": [
        "y_train"
      ]
    },
    {
      "cell_type": "code",
      "execution_count": 62,
      "metadata": {
        "id": "P0_jyu7MHA0s"
      },
      "outputs": [],
      "source": [
        "x_train, y_train = np.array(x_train), np.array(y_train)"
      ]
    },
    {
      "cell_type": "code",
      "execution_count": 63,
      "metadata": {
        "id": "mmOC2QL6HJsm"
      },
      "outputs": [],
      "source": [
        "# Model Creation\n",
        "\n",
        "from keras.layers import Dense, Dropout, LSTM\n",
        "from keras.models import Sequential"
      ]
    },
    {
      "cell_type": "code",
      "execution_count": 64,
      "metadata": {
        "id": "gUfUTfPKHXli"
      },
      "outputs": [],
      "source": [
        "model = Sequential()\n",
        "\n",
        "model.add(LSTM(units = 50, activation='relu', return_sequences=True, input_shape = (x_train.shape[1], 1)))\n",
        "model.add(Dropout(0.2))\n",
        "\n",
        "model.add(LSTM(units = 60, activation='relu', return_sequences=True))\n",
        "model.add(Dropout(0.3))\n",
        "\n",
        "model.add(LSTM(units = 80, activation='relu', return_sequences=True))\n",
        "model.add(Dropout(0.4))\n",
        "\n",
        "model.add(LSTM(units = 120, activation='relu'))\n",
        "model.add(Dropout(0.5))\n",
        "\n",
        "model.add(Dense(1))"
      ]
    },
    {
      "cell_type": "code",
      "execution_count": 65,
      "metadata": {
        "colab": {
          "base_uri": "https://localhost:8080/"
        },
        "id": "KqhIoAlIIRlB",
        "outputId": "e02e8496-89ed-4415-87ea-36cf5cde835d"
      },
      "outputs": [
        {
          "data": {
            "text/html": [
              "<pre style=\"white-space:pre;overflow-x:auto;line-height:normal;font-family:Menlo,'DejaVu Sans Mono',consolas,'Courier New',monospace\"><span style=\"font-weight: bold\">Model: \"sequential_1\"</span>\n",
              "</pre>\n"
            ],
            "text/plain": [
              "\u001b[1mModel: \"sequential_1\"\u001b[0m\n"
            ]
          },
          "metadata": {},
          "output_type": "display_data"
        },
        {
          "data": {
            "text/html": [
              "<pre style=\"white-space:pre;overflow-x:auto;line-height:normal;font-family:Menlo,'DejaVu Sans Mono',consolas,'Courier New',monospace\">┏━━━━━━━━━━━━━━━━━━━━━━━━━━━━━━━━━┳━━━━━━━━━━━━━━━━━━━━━━━━┳━━━━━━━━━━━━━━━┓\n",
              "┃<span style=\"font-weight: bold\"> Layer (type)                    </span>┃<span style=\"font-weight: bold\"> Output Shape           </span>┃<span style=\"font-weight: bold\">       Param # </span>┃\n",
              "┡━━━━━━━━━━━━━━━━━━━━━━━━━━━━━━━━━╇━━━━━━━━━━━━━━━━━━━━━━━━╇━━━━━━━━━━━━━━━┩\n",
              "│ lstm_4 (<span style=\"color: #0087ff; text-decoration-color: #0087ff\">LSTM</span>)                   │ (<span style=\"color: #00d7ff; text-decoration-color: #00d7ff\">None</span>, <span style=\"color: #00af00; text-decoration-color: #00af00\">40</span>, <span style=\"color: #00af00; text-decoration-color: #00af00\">50</span>)         │        <span style=\"color: #00af00; text-decoration-color: #00af00\">10,400</span> │\n",
              "├─────────────────────────────────┼────────────────────────┼───────────────┤\n",
              "│ dropout_4 (<span style=\"color: #0087ff; text-decoration-color: #0087ff\">Dropout</span>)             │ (<span style=\"color: #00d7ff; text-decoration-color: #00d7ff\">None</span>, <span style=\"color: #00af00; text-decoration-color: #00af00\">40</span>, <span style=\"color: #00af00; text-decoration-color: #00af00\">50</span>)         │             <span style=\"color: #00af00; text-decoration-color: #00af00\">0</span> │\n",
              "├─────────────────────────────────┼────────────────────────┼───────────────┤\n",
              "│ lstm_5 (<span style=\"color: #0087ff; text-decoration-color: #0087ff\">LSTM</span>)                   │ (<span style=\"color: #00d7ff; text-decoration-color: #00d7ff\">None</span>, <span style=\"color: #00af00; text-decoration-color: #00af00\">40</span>, <span style=\"color: #00af00; text-decoration-color: #00af00\">60</span>)         │        <span style=\"color: #00af00; text-decoration-color: #00af00\">26,640</span> │\n",
              "├─────────────────────────────────┼────────────────────────┼───────────────┤\n",
              "│ dropout_5 (<span style=\"color: #0087ff; text-decoration-color: #0087ff\">Dropout</span>)             │ (<span style=\"color: #00d7ff; text-decoration-color: #00d7ff\">None</span>, <span style=\"color: #00af00; text-decoration-color: #00af00\">40</span>, <span style=\"color: #00af00; text-decoration-color: #00af00\">60</span>)         │             <span style=\"color: #00af00; text-decoration-color: #00af00\">0</span> │\n",
              "├─────────────────────────────────┼────────────────────────┼───────────────┤\n",
              "│ lstm_6 (<span style=\"color: #0087ff; text-decoration-color: #0087ff\">LSTM</span>)                   │ (<span style=\"color: #00d7ff; text-decoration-color: #00d7ff\">None</span>, <span style=\"color: #00af00; text-decoration-color: #00af00\">40</span>, <span style=\"color: #00af00; text-decoration-color: #00af00\">80</span>)         │        <span style=\"color: #00af00; text-decoration-color: #00af00\">45,120</span> │\n",
              "├─────────────────────────────────┼────────────────────────┼───────────────┤\n",
              "│ dropout_6 (<span style=\"color: #0087ff; text-decoration-color: #0087ff\">Dropout</span>)             │ (<span style=\"color: #00d7ff; text-decoration-color: #00d7ff\">None</span>, <span style=\"color: #00af00; text-decoration-color: #00af00\">40</span>, <span style=\"color: #00af00; text-decoration-color: #00af00\">80</span>)         │             <span style=\"color: #00af00; text-decoration-color: #00af00\">0</span> │\n",
              "├─────────────────────────────────┼────────────────────────┼───────────────┤\n",
              "│ lstm_7 (<span style=\"color: #0087ff; text-decoration-color: #0087ff\">LSTM</span>)                   │ (<span style=\"color: #00d7ff; text-decoration-color: #00d7ff\">None</span>, <span style=\"color: #00af00; text-decoration-color: #00af00\">120</span>)            │        <span style=\"color: #00af00; text-decoration-color: #00af00\">96,480</span> │\n",
              "├─────────────────────────────────┼────────────────────────┼───────────────┤\n",
              "│ dropout_7 (<span style=\"color: #0087ff; text-decoration-color: #0087ff\">Dropout</span>)             │ (<span style=\"color: #00d7ff; text-decoration-color: #00d7ff\">None</span>, <span style=\"color: #00af00; text-decoration-color: #00af00\">120</span>)            │             <span style=\"color: #00af00; text-decoration-color: #00af00\">0</span> │\n",
              "├─────────────────────────────────┼────────────────────────┼───────────────┤\n",
              "│ dense_1 (<span style=\"color: #0087ff; text-decoration-color: #0087ff\">Dense</span>)                 │ (<span style=\"color: #00d7ff; text-decoration-color: #00d7ff\">None</span>, <span style=\"color: #00af00; text-decoration-color: #00af00\">1</span>)              │           <span style=\"color: #00af00; text-decoration-color: #00af00\">121</span> │\n",
              "└─────────────────────────────────┴────────────────────────┴───────────────┘\n",
              "</pre>\n"
            ],
            "text/plain": [
              "┏━━━━━━━━━━━━━━━━━━━━━━━━━━━━━━━━━┳━━━━━━━━━━━━━━━━━━━━━━━━┳━━━━━━━━━━━━━━━┓\n",
              "┃\u001b[1m \u001b[0m\u001b[1mLayer (type)                   \u001b[0m\u001b[1m \u001b[0m┃\u001b[1m \u001b[0m\u001b[1mOutput Shape          \u001b[0m\u001b[1m \u001b[0m┃\u001b[1m \u001b[0m\u001b[1m      Param #\u001b[0m\u001b[1m \u001b[0m┃\n",
              "┡━━━━━━━━━━━━━━━━━━━━━━━━━━━━━━━━━╇━━━━━━━━━━━━━━━━━━━━━━━━╇━━━━━━━━━━━━━━━┩\n",
              "│ lstm_4 (\u001b[38;5;33mLSTM\u001b[0m)                   │ (\u001b[38;5;45mNone\u001b[0m, \u001b[38;5;34m40\u001b[0m, \u001b[38;5;34m50\u001b[0m)         │        \u001b[38;5;34m10,400\u001b[0m │\n",
              "├─────────────────────────────────┼────────────────────────┼───────────────┤\n",
              "│ dropout_4 (\u001b[38;5;33mDropout\u001b[0m)             │ (\u001b[38;5;45mNone\u001b[0m, \u001b[38;5;34m40\u001b[0m, \u001b[38;5;34m50\u001b[0m)         │             \u001b[38;5;34m0\u001b[0m │\n",
              "├─────────────────────────────────┼────────────────────────┼───────────────┤\n",
              "│ lstm_5 (\u001b[38;5;33mLSTM\u001b[0m)                   │ (\u001b[38;5;45mNone\u001b[0m, \u001b[38;5;34m40\u001b[0m, \u001b[38;5;34m60\u001b[0m)         │        \u001b[38;5;34m26,640\u001b[0m │\n",
              "├─────────────────────────────────┼────────────────────────┼───────────────┤\n",
              "│ dropout_5 (\u001b[38;5;33mDropout\u001b[0m)             │ (\u001b[38;5;45mNone\u001b[0m, \u001b[38;5;34m40\u001b[0m, \u001b[38;5;34m60\u001b[0m)         │             \u001b[38;5;34m0\u001b[0m │\n",
              "├─────────────────────────────────┼────────────────────────┼───────────────┤\n",
              "│ lstm_6 (\u001b[38;5;33mLSTM\u001b[0m)                   │ (\u001b[38;5;45mNone\u001b[0m, \u001b[38;5;34m40\u001b[0m, \u001b[38;5;34m80\u001b[0m)         │        \u001b[38;5;34m45,120\u001b[0m │\n",
              "├─────────────────────────────────┼────────────────────────┼───────────────┤\n",
              "│ dropout_6 (\u001b[38;5;33mDropout\u001b[0m)             │ (\u001b[38;5;45mNone\u001b[0m, \u001b[38;5;34m40\u001b[0m, \u001b[38;5;34m80\u001b[0m)         │             \u001b[38;5;34m0\u001b[0m │\n",
              "├─────────────────────────────────┼────────────────────────┼───────────────┤\n",
              "│ lstm_7 (\u001b[38;5;33mLSTM\u001b[0m)                   │ (\u001b[38;5;45mNone\u001b[0m, \u001b[38;5;34m120\u001b[0m)            │        \u001b[38;5;34m96,480\u001b[0m │\n",
              "├─────────────────────────────────┼────────────────────────┼───────────────┤\n",
              "│ dropout_7 (\u001b[38;5;33mDropout\u001b[0m)             │ (\u001b[38;5;45mNone\u001b[0m, \u001b[38;5;34m120\u001b[0m)            │             \u001b[38;5;34m0\u001b[0m │\n",
              "├─────────────────────────────────┼────────────────────────┼───────────────┤\n",
              "│ dense_1 (\u001b[38;5;33mDense\u001b[0m)                 │ (\u001b[38;5;45mNone\u001b[0m, \u001b[38;5;34m1\u001b[0m)              │           \u001b[38;5;34m121\u001b[0m │\n",
              "└─────────────────────────────────┴────────────────────────┴───────────────┘\n"
            ]
          },
          "metadata": {},
          "output_type": "display_data"
        },
        {
          "data": {
            "text/html": [
              "<pre style=\"white-space:pre;overflow-x:auto;line-height:normal;font-family:Menlo,'DejaVu Sans Mono',consolas,'Courier New',monospace\"><span style=\"font-weight: bold\"> Total params: </span><span style=\"color: #00af00; text-decoration-color: #00af00\">178,761</span> (698.29 KB)\n",
              "</pre>\n"
            ],
            "text/plain": [
              "\u001b[1m Total params: \u001b[0m\u001b[38;5;34m178,761\u001b[0m (698.29 KB)\n"
            ]
          },
          "metadata": {},
          "output_type": "display_data"
        },
        {
          "data": {
            "text/html": [
              "<pre style=\"white-space:pre;overflow-x:auto;line-height:normal;font-family:Menlo,'DejaVu Sans Mono',consolas,'Courier New',monospace\"><span style=\"font-weight: bold\"> Trainable params: </span><span style=\"color: #00af00; text-decoration-color: #00af00\">178,761</span> (698.29 KB)\n",
              "</pre>\n"
            ],
            "text/plain": [
              "\u001b[1m Trainable params: \u001b[0m\u001b[38;5;34m178,761\u001b[0m (698.29 KB)\n"
            ]
          },
          "metadata": {},
          "output_type": "display_data"
        },
        {
          "data": {
            "text/html": [
              "<pre style=\"white-space:pre;overflow-x:auto;line-height:normal;font-family:Menlo,'DejaVu Sans Mono',consolas,'Courier New',monospace\"><span style=\"font-weight: bold\"> Non-trainable params: </span><span style=\"color: #00af00; text-decoration-color: #00af00\">0</span> (0.00 B)\n",
              "</pre>\n"
            ],
            "text/plain": [
              "\u001b[1m Non-trainable params: \u001b[0m\u001b[38;5;34m0\u001b[0m (0.00 B)\n"
            ]
          },
          "metadata": {},
          "output_type": "display_data"
        }
      ],
      "source": [
        "model.summary()"
      ]
    },
    {
      "cell_type": "code",
      "execution_count": 66,
      "metadata": {
        "colab": {
          "base_uri": "https://localhost:8080/"
        },
        "id": "0lxXyIbkIUOe",
        "outputId": "fddc1bc2-1da2-408e-dcaf-8fe5198a73b1"
      },
      "outputs": [
        {
          "name": "stdout",
          "output_type": "stream",
          "text": [
            "Epoch 1/50\n"
          ]
        },
        {
          "name": "stdout",
          "output_type": "stream",
          "text": [
            "\u001b[1m1/1\u001b[0m \u001b[32m━━━━━━━━━━━━━━━━━━━━\u001b[0m\u001b[37m\u001b[0m \u001b[1m6s\u001b[0m 6s/step - loss: 0.4607\n",
            "Epoch 2/50\n",
            "\u001b[1m1/1\u001b[0m \u001b[32m━━━━━━━━━━━━━━━━━━━━\u001b[0m\u001b[37m\u001b[0m \u001b[1m0s\u001b[0m 67ms/step - loss: 0.4381\n",
            "Epoch 3/50\n",
            "\u001b[1m1/1\u001b[0m \u001b[32m━━━━━━━━━━━━━━━━━━━━\u001b[0m\u001b[37m\u001b[0m \u001b[1m0s\u001b[0m 64ms/step - loss: 0.4164\n",
            "Epoch 4/50\n",
            "\u001b[1m1/1\u001b[0m \u001b[32m━━━━━━━━━━━━━━━━━━━━\u001b[0m\u001b[37m\u001b[0m \u001b[1m0s\u001b[0m 65ms/step - loss: 0.4023\n",
            "Epoch 5/50\n",
            "\u001b[1m1/1\u001b[0m \u001b[32m━━━━━━━━━━━━━━━━━━━━\u001b[0m\u001b[37m\u001b[0m \u001b[1m0s\u001b[0m 97ms/step - loss: 0.3728\n",
            "Epoch 6/50\n",
            "\u001b[1m1/1\u001b[0m \u001b[32m━━━━━━━━━━━━━━━━━━━━\u001b[0m\u001b[37m\u001b[0m \u001b[1m0s\u001b[0m 63ms/step - loss: 0.3221\n",
            "Epoch 7/50\n",
            "\u001b[1m1/1\u001b[0m \u001b[32m━━━━━━━━━━━━━━━━━━━━\u001b[0m\u001b[37m\u001b[0m \u001b[1m0s\u001b[0m 160ms/step - loss: 0.2639\n",
            "Epoch 8/50\n",
            "\u001b[1m1/1\u001b[0m \u001b[32m━━━━━━━━━━━━━━━━━━━━\u001b[0m\u001b[37m\u001b[0m \u001b[1m0s\u001b[0m 63ms/step - loss: 0.1680\n",
            "Epoch 9/50\n",
            "\u001b[1m1/1\u001b[0m \u001b[32m━━━━━━━━━━━━━━━━━━━━\u001b[0m\u001b[37m\u001b[0m \u001b[1m0s\u001b[0m 62ms/step - loss: 0.1415\n",
            "Epoch 10/50\n",
            "\u001b[1m1/1\u001b[0m \u001b[32m━━━━━━━━━━━━━━━━━━━━\u001b[0m\u001b[37m\u001b[0m \u001b[1m0s\u001b[0m 67ms/step - loss: 0.0482\n",
            "Epoch 11/50\n",
            "\u001b[1m1/1\u001b[0m \u001b[32m━━━━━━━━━━━━━━━━━━━━\u001b[0m\u001b[37m\u001b[0m \u001b[1m0s\u001b[0m 61ms/step - loss: 0.2443\n",
            "Epoch 12/50\n",
            "\u001b[1m1/1\u001b[0m \u001b[32m━━━━━━━━━━━━━━━━━━━━\u001b[0m\u001b[37m\u001b[0m \u001b[1m0s\u001b[0m 54ms/step - loss: 0.1842\n",
            "Epoch 13/50\n",
            "\u001b[1m1/1\u001b[0m \u001b[32m━━━━━━━━━━━━━━━━━━━━\u001b[0m\u001b[37m\u001b[0m \u001b[1m0s\u001b[0m 61ms/step - loss: 0.0771\n",
            "Epoch 14/50\n",
            "\u001b[1m1/1\u001b[0m \u001b[32m━━━━━━━━━━━━━━━━━━━━\u001b[0m\u001b[37m\u001b[0m \u001b[1m0s\u001b[0m 62ms/step - loss: 0.0949\n",
            "Epoch 15/50\n",
            "\u001b[1m1/1\u001b[0m \u001b[32m━━━━━━━━━━━━━━━━━━━━\u001b[0m\u001b[37m\u001b[0m \u001b[1m0s\u001b[0m 58ms/step - loss: 0.1358\n",
            "Epoch 16/50\n",
            "\u001b[1m1/1\u001b[0m \u001b[32m━━━━━━━━━━━━━━━━━━━━\u001b[0m\u001b[37m\u001b[0m \u001b[1m0s\u001b[0m 61ms/step - loss: 0.1487\n",
            "Epoch 17/50\n",
            "\u001b[1m1/1\u001b[0m \u001b[32m━━━━━━━━━━━━━━━━━━━━\u001b[0m\u001b[37m\u001b[0m \u001b[1m0s\u001b[0m 60ms/step - loss: 0.1121\n",
            "Epoch 18/50\n",
            "\u001b[1m1/1\u001b[0m \u001b[32m━━━━━━━━━━━━━━━━━━━━\u001b[0m\u001b[37m\u001b[0m \u001b[1m0s\u001b[0m 58ms/step - loss: 0.1514\n",
            "Epoch 19/50\n",
            "\u001b[1m1/1\u001b[0m \u001b[32m━━━━━━━━━━━━━━━━━━━━\u001b[0m\u001b[37m\u001b[0m \u001b[1m0s\u001b[0m 60ms/step - loss: 0.1561\n",
            "Epoch 20/50\n",
            "\u001b[1m1/1\u001b[0m \u001b[32m━━━━━━━━━━━━━━━━━━━━\u001b[0m\u001b[37m\u001b[0m \u001b[1m0s\u001b[0m 61ms/step - loss: 0.1108\n",
            "Epoch 21/50\n",
            "\u001b[1m1/1\u001b[0m \u001b[32m━━━━━━━━━━━━━━━━━━━━\u001b[0m\u001b[37m\u001b[0m \u001b[1m0s\u001b[0m 63ms/step - loss: 0.1352\n",
            "Epoch 22/50\n",
            "\u001b[1m1/1\u001b[0m \u001b[32m━━━━━━━━━━━━━━━━━━━━\u001b[0m\u001b[37m\u001b[0m \u001b[1m0s\u001b[0m 61ms/step - loss: 0.1062\n",
            "Epoch 23/50\n",
            "\u001b[1m1/1\u001b[0m \u001b[32m━━━━━━━━━━━━━━━━━━━━\u001b[0m\u001b[37m\u001b[0m \u001b[1m0s\u001b[0m 61ms/step - loss: 0.1361\n",
            "Epoch 24/50\n",
            "\u001b[1m1/1\u001b[0m \u001b[32m━━━━━━━━━━━━━━━━━━━━\u001b[0m\u001b[37m\u001b[0m \u001b[1m0s\u001b[0m 61ms/step - loss: 0.1268\n",
            "Epoch 25/50\n",
            "\u001b[1m1/1\u001b[0m \u001b[32m━━━━━━━━━━━━━━━━━━━━\u001b[0m\u001b[37m\u001b[0m \u001b[1m0s\u001b[0m 61ms/step - loss: 0.1160\n",
            "Epoch 26/50\n",
            "\u001b[1m1/1\u001b[0m \u001b[32m━━━━━━━━━━━━━━━━━━━━\u001b[0m\u001b[37m\u001b[0m \u001b[1m0s\u001b[0m 61ms/step - loss: 0.0542\n",
            "Epoch 27/50\n",
            "\u001b[1m1/1\u001b[0m \u001b[32m━━━━━━━━━━━━━━━━━━━━\u001b[0m\u001b[37m\u001b[0m \u001b[1m0s\u001b[0m 62ms/step - loss: 0.0482\n",
            "Epoch 28/50\n",
            "\u001b[1m1/1\u001b[0m \u001b[32m━━━━━━━━━━━━━━━━━━━━\u001b[0m\u001b[37m\u001b[0m \u001b[1m0s\u001b[0m 61ms/step - loss: 0.0732\n",
            "Epoch 29/50\n",
            "\u001b[1m1/1\u001b[0m \u001b[32m━━━━━━━━━━━━━━━━━━━━\u001b[0m\u001b[37m\u001b[0m \u001b[1m0s\u001b[0m 60ms/step - loss: 0.0645\n",
            "Epoch 30/50\n",
            "\u001b[1m1/1\u001b[0m \u001b[32m━━━━━━━━━━━━━━━━━━━━\u001b[0m\u001b[37m\u001b[0m \u001b[1m0s\u001b[0m 63ms/step - loss: 0.1673\n",
            "Epoch 31/50\n",
            "\u001b[1m1/1\u001b[0m \u001b[32m━━━━━━━━━━━━━━━━━━━━\u001b[0m\u001b[37m\u001b[0m \u001b[1m0s\u001b[0m 61ms/step - loss: 0.0861\n",
            "Epoch 32/50\n",
            "\u001b[1m1/1\u001b[0m \u001b[32m━━━━━━━━━━━━━━━━━━━━\u001b[0m\u001b[37m\u001b[0m \u001b[1m0s\u001b[0m 59ms/step - loss: 0.1603\n",
            "Epoch 33/50\n",
            "\u001b[1m1/1\u001b[0m \u001b[32m━━━━━━━━━━━━━━━━━━━━\u001b[0m\u001b[37m\u001b[0m \u001b[1m0s\u001b[0m 63ms/step - loss: 0.1045\n",
            "Epoch 34/50\n",
            "\u001b[1m1/1\u001b[0m \u001b[32m━━━━━━━━━━━━━━━━━━━━\u001b[0m\u001b[37m\u001b[0m \u001b[1m0s\u001b[0m 60ms/step - loss: 0.0954\n",
            "Epoch 35/50\n",
            "\u001b[1m1/1\u001b[0m \u001b[32m━━━━━━━━━━━━━━━━━━━━\u001b[0m\u001b[37m\u001b[0m \u001b[1m0s\u001b[0m 61ms/step - loss: 0.0822\n",
            "Epoch 36/50\n",
            "\u001b[1m1/1\u001b[0m \u001b[32m━━━━━━━━━━━━━━━━━━━━\u001b[0m\u001b[37m\u001b[0m \u001b[1m0s\u001b[0m 58ms/step - loss: 0.0624\n",
            "Epoch 37/50\n",
            "\u001b[1m1/1\u001b[0m \u001b[32m━━━━━━━━━━━━━━━━━━━━\u001b[0m\u001b[37m\u001b[0m \u001b[1m0s\u001b[0m 62ms/step - loss: 0.1263\n",
            "Epoch 38/50\n",
            "\u001b[1m1/1\u001b[0m \u001b[32m━━━━━━━━━━━━━━━━━━━━\u001b[0m\u001b[37m\u001b[0m \u001b[1m0s\u001b[0m 63ms/step - loss: 0.0403\n",
            "Epoch 39/50\n",
            "\u001b[1m1/1\u001b[0m \u001b[32m━━━━━━━━━━━━━━━━━━━━\u001b[0m\u001b[37m\u001b[0m \u001b[1m0s\u001b[0m 59ms/step - loss: 0.0780\n",
            "Epoch 40/50\n",
            "\u001b[1m1/1\u001b[0m \u001b[32m━━━━━━━━━━━━━━━━━━━━\u001b[0m\u001b[37m\u001b[0m \u001b[1m0s\u001b[0m 62ms/step - loss: 0.0470\n",
            "Epoch 41/50\n",
            "\u001b[1m1/1\u001b[0m \u001b[32m━━━━━━━━━━━━━━━━━━━━\u001b[0m\u001b[37m\u001b[0m \u001b[1m0s\u001b[0m 59ms/step - loss: 0.1129\n",
            "Epoch 42/50\n",
            "\u001b[1m1/1\u001b[0m \u001b[32m━━━━━━━━━━━━━━━━━━━━\u001b[0m\u001b[37m\u001b[0m \u001b[1m0s\u001b[0m 59ms/step - loss: 0.0966\n",
            "Epoch 43/50\n",
            "\u001b[1m1/1\u001b[0m \u001b[32m━━━━━━━━━━━━━━━━━━━━\u001b[0m\u001b[37m\u001b[0m \u001b[1m0s\u001b[0m 62ms/step - loss: 0.0942\n",
            "Epoch 44/50\n",
            "\u001b[1m1/1\u001b[0m \u001b[32m━━━━━━━━━━━━━━━━━━━━\u001b[0m\u001b[37m\u001b[0m \u001b[1m0s\u001b[0m 61ms/step - loss: 0.0289\n",
            "Epoch 45/50\n",
            "\u001b[1m1/1\u001b[0m \u001b[32m━━━━━━━━━━━━━━━━━━━━\u001b[0m\u001b[37m\u001b[0m \u001b[1m0s\u001b[0m 61ms/step - loss: 0.0884\n",
            "Epoch 46/50\n",
            "\u001b[1m1/1\u001b[0m \u001b[32m━━━━━━━━━━━━━━━━━━━━\u001b[0m\u001b[37m\u001b[0m \u001b[1m0s\u001b[0m 62ms/step - loss: 0.0528\n",
            "Epoch 47/50\n",
            "\u001b[1m1/1\u001b[0m \u001b[32m━━━━━━━━━━━━━━━━━━━━\u001b[0m\u001b[37m\u001b[0m \u001b[1m0s\u001b[0m 63ms/step - loss: 0.1250\n",
            "Epoch 48/50\n",
            "\u001b[1m1/1\u001b[0m \u001b[32m━━━━━━━━━━━━━━━━━━━━\u001b[0m\u001b[37m\u001b[0m \u001b[1m0s\u001b[0m 61ms/step - loss: 0.0745\n",
            "Epoch 49/50\n",
            "\u001b[1m1/1\u001b[0m \u001b[32m━━━━━━━━━━━━━━━━━━━━\u001b[0m\u001b[37m\u001b[0m \u001b[1m0s\u001b[0m 61ms/step - loss: 0.1032\n",
            "Epoch 50/50\n",
            "\u001b[1m1/1\u001b[0m \u001b[32m━━━━━━━━━━━━━━━━━━━━\u001b[0m\u001b[37m\u001b[0m \u001b[1m0s\u001b[0m 61ms/step - loss: 0.0880\n"
          ]
        },
        {
          "data": {
            "text/plain": [
              "<keras.src.callbacks.history.History at 0x23c17ba76e0>"
            ]
          },
          "execution_count": 66,
          "metadata": {},
          "output_type": "execute_result"
        }
      ],
      "source": [
        "model.compile(optimizer = 'adam', loss = 'mean_squared_error')\n",
        "model.fit(x_train, y_train, epochs = 50)"
      ]
    },
    {
      "cell_type": "code",
      "execution_count": 67,
      "metadata": {
        "id": "tXzsdclaIjuF"
      },
      "outputs": [
        {
          "name": "stderr",
          "output_type": "stream",
          "text": [
            "WARNING:absl:You are saving your model as an HDF5 file via `model.save()` or `keras.saving.save_model(model)`. This file format is considered legacy. We recommend using instead the native Keras format, e.g. `model.save('my_model.keras')` or `keras.saving.save_model(model, 'my_model.keras')`. \n"
          ]
        }
      ],
      "source": [
        "model.save('LSTM_Model_Max.h5')"
      ]
    },
    {
      "cell_type": "code",
      "execution_count": 68,
      "metadata": {
        "colab": {
          "base_uri": "https://localhost:8080/",
          "height": 206
        },
        "id": "WFZfhb2DJip5",
        "outputId": "c8ef8576-528f-4641-f18d-983195d2873a"
      },
      "outputs": [
        {
          "data": {
            "text/html": [
              "<div>\n",
              "<style scoped>\n",
              "    .dataframe tbody tr th:only-of-type {\n",
              "        vertical-align: middle;\n",
              "    }\n",
              "\n",
              "    .dataframe tbody tr th {\n",
              "        vertical-align: top;\n",
              "    }\n",
              "\n",
              "    .dataframe thead th {\n",
              "        text-align: right;\n",
              "    }\n",
              "</style>\n",
              "<table border=\"1\" class=\"dataframe\">\n",
              "  <thead>\n",
              "    <tr style=\"text-align: right;\">\n",
              "      <th></th>\n",
              "      <th>INDIA</th>\n",
              "    </tr>\n",
              "  </thead>\n",
              "  <tbody>\n",
              "    <tr>\n",
              "      <th>44</th>\n",
              "      <td>50.80</td>\n",
              "    </tr>\n",
              "    <tr>\n",
              "      <th>45</th>\n",
              "      <td>56.00</td>\n",
              "    </tr>\n",
              "    <tr>\n",
              "      <th>46</th>\n",
              "      <td>52.35</td>\n",
              "    </tr>\n",
              "    <tr>\n",
              "      <th>47</th>\n",
              "      <td>54.45</td>\n",
              "    </tr>\n",
              "    <tr>\n",
              "      <th>48</th>\n",
              "      <td>54.15</td>\n",
              "    </tr>\n",
              "  </tbody>\n",
              "</table>\n",
              "</div>"
            ],
            "text/plain": [
              "    INDIA\n",
              "44  50.80\n",
              "45  56.00\n",
              "46  52.35\n",
              "47  54.45\n",
              "48  54.15"
            ]
          },
          "execution_count": 68,
          "metadata": {},
          "output_type": "execute_result"
        }
      ],
      "source": [
        "data_testing.head()"
      ]
    },
    {
      "cell_type": "code",
      "execution_count": 69,
      "metadata": {
        "id": "1t3FSuF8LuHd"
      },
      "outputs": [],
      "source": [
        "past_40_days = data_training.tail(40)"
      ]
    },
    {
      "cell_type": "code",
      "execution_count": 70,
      "metadata": {
        "id": "TvazamhGMMmF"
      },
      "outputs": [],
      "source": [
        "final_df = pd.concat([past_40_days, data_testing], ignore_index=True)"
      ]
    },
    {
      "cell_type": "code",
      "execution_count": 71,
      "metadata": {
        "colab": {
          "base_uri": "https://localhost:8080/",
          "height": 206
        },
        "id": "cSZKBcBXMNQA",
        "outputId": "72136750-ec36-444a-b90f-ed716daa95ff"
      },
      "outputs": [
        {
          "data": {
            "text/html": [
              "<div>\n",
              "<style scoped>\n",
              "    .dataframe tbody tr th:only-of-type {\n",
              "        vertical-align: middle;\n",
              "    }\n",
              "\n",
              "    .dataframe tbody tr th {\n",
              "        vertical-align: top;\n",
              "    }\n",
              "\n",
              "    .dataframe thead th {\n",
              "        text-align: right;\n",
              "    }\n",
              "</style>\n",
              "<table border=\"1\" class=\"dataframe\">\n",
              "  <thead>\n",
              "    <tr style=\"text-align: right;\">\n",
              "      <th></th>\n",
              "      <th>INDIA</th>\n",
              "    </tr>\n",
              "  </thead>\n",
              "  <tbody>\n",
              "    <tr>\n",
              "      <th>0</th>\n",
              "      <td>48.55</td>\n",
              "    </tr>\n",
              "    <tr>\n",
              "      <th>1</th>\n",
              "      <td>48.80</td>\n",
              "    </tr>\n",
              "    <tr>\n",
              "      <th>2</th>\n",
              "      <td>48.38</td>\n",
              "    </tr>\n",
              "    <tr>\n",
              "      <th>3</th>\n",
              "      <td>47.84</td>\n",
              "    </tr>\n",
              "    <tr>\n",
              "      <th>4</th>\n",
              "      <td>47.52</td>\n",
              "    </tr>\n",
              "  </tbody>\n",
              "</table>\n",
              "</div>"
            ],
            "text/plain": [
              "   INDIA\n",
              "0  48.55\n",
              "1  48.80\n",
              "2  48.38\n",
              "3  47.84\n",
              "4  47.52"
            ]
          },
          "execution_count": 71,
          "metadata": {},
          "output_type": "execute_result"
        }
      ],
      "source": [
        "final_df.head()"
      ]
    },
    {
      "cell_type": "code",
      "execution_count": 72,
      "metadata": {
        "colab": {
          "base_uri": "https://localhost:8080/"
        },
        "id": "SqIMsk2OMd89",
        "outputId": "775039de-6725-41c6-f2ff-5994b3e0dd7e"
      },
      "outputs": [
        {
          "data": {
            "text/plain": [
              "array([[0.32315978],\n",
              "       [0.33213645],\n",
              "       [0.31705566],\n",
              "       [0.29766607],\n",
              "       [0.28617594],\n",
              "       [0.26319569],\n",
              "       [0.22082585],\n",
              "       [0.21005386],\n",
              "       [0.15547576],\n",
              "       [0.19928187],\n",
              "       [0.23806104],\n",
              "       [0.18132855],\n",
              "       [0.14003591],\n",
              "       [0.14003591],\n",
              "       [0.1508079 ],\n",
              "       [0.19210054],\n",
              "       [0.17235189],\n",
              "       [0.23518851],\n",
              "       [0.24236984],\n",
              "       [0.16157989],\n",
              "       [0.03590664],\n",
              "       [0.03590664],\n",
              "       [0.04847397],\n",
              "       [0.        ],\n",
              "       [0.005386  ],\n",
              "       [0.10233393],\n",
              "       [0.31956912],\n",
              "       [0.31059246],\n",
              "       [0.38779174],\n",
              "       [0.29084381],\n",
              "       [0.32495512],\n",
              "       [0.2459605 ],\n",
              "       [0.19389587],\n",
              "       [0.24236984],\n",
              "       [0.25852783],\n",
              "       [0.22082585],\n",
              "       [0.19389587],\n",
              "       [0.17594255],\n",
              "       [0.32495512],\n",
              "       [0.45601436],\n",
              "       [0.40394973],\n",
              "       [0.59066427],\n",
              "       [0.45960503],\n",
              "       [0.53500898],\n",
              "       [0.52423698],\n",
              "       [0.71813285],\n",
              "       [0.82405745],\n",
              "       [0.78815081],\n",
              "       [0.79712747],\n",
              "       [0.72351885],\n",
              "       [0.78635548],\n",
              "       [0.8491921 ],\n",
              "       [0.81508079],\n",
              "       [0.85637343],\n",
              "       [0.9497307 ],\n",
              "       [0.95332136],\n",
              "       [0.94614004],\n",
              "       [1.        ],\n",
              "       [0.96947935]])"
            ]
          },
          "execution_count": 72,
          "metadata": {},
          "output_type": "execute_result"
        }
      ],
      "source": [
        "input_data = scaler.fit_transform(final_df)\n",
        "input_data"
      ]
    },
    {
      "cell_type": "code",
      "execution_count": 73,
      "metadata": {
        "colab": {
          "base_uri": "https://localhost:8080/"
        },
        "id": "Rj5HW0NnMolZ",
        "outputId": "dd338bd9-fba2-440b-cc02-69be694a7b77"
      },
      "outputs": [
        {
          "data": {
            "text/plain": [
              "(59, 1)"
            ]
          },
          "execution_count": 73,
          "metadata": {},
          "output_type": "execute_result"
        }
      ],
      "source": [
        "input_data.shape"
      ]
    },
    {
      "cell_type": "code",
      "execution_count": 74,
      "metadata": {
        "id": "SfxLeyqGMtBz"
      },
      "outputs": [],
      "source": [
        "x_test = []\n",
        "y_test = []\n",
        "\n",
        "for i in range(40, input_data.shape[0]):\n",
        "    x_test.append(input_data[i-40:i])\n",
        "    y_test.append(input_data[i, 0])"
      ]
    },
    {
      "cell_type": "code",
      "execution_count": 75,
      "metadata": {
        "colab": {
          "base_uri": "https://localhost:8080/"
        },
        "id": "gYXAgwFqNDZu",
        "outputId": "05b56d22-2fa8-44c1-a8b8-d98df5fe0d24"
      },
      "outputs": [
        {
          "name": "stdout",
          "output_type": "stream",
          "text": [
            "(19, 40, 1)\n",
            "(19,)\n"
          ]
        }
      ],
      "source": [
        "x_test, y_test = np.array(x_test), np.array(y_test)\n",
        "print(x_test.shape)\n",
        "print(y_test.shape)"
      ]
    },
    {
      "cell_type": "code",
      "execution_count": 76,
      "metadata": {
        "colab": {
          "base_uri": "https://localhost:8080/"
        },
        "id": "C3pTakw4NTa5",
        "outputId": "62f397ed-2c79-4c1d-dba5-3d2df473060b"
      },
      "outputs": [
        {
          "name": "stdout",
          "output_type": "stream",
          "text": [
            "\u001b[1m1/1\u001b[0m \u001b[32m━━━━━━━━━━━━━━━━━━━━\u001b[0m\u001b[37m\u001b[0m \u001b[1m1s\u001b[0m 791ms/step\n"
          ]
        }
      ],
      "source": [
        "# Making the predictions\n",
        "\n",
        "y_predicted = model.predict(x_test)"
      ]
    },
    {
      "cell_type": "code",
      "execution_count": 77,
      "metadata": {
        "colab": {
          "base_uri": "https://localhost:8080/"
        },
        "id": "B06wlfh4Nc__",
        "outputId": "3f4eda12-c507-4f48-cd58-57a0806e771b"
      },
      "outputs": [
        {
          "data": {
            "text/plain": [
              "(19, 1)"
            ]
          },
          "execution_count": 77,
          "metadata": {},
          "output_type": "execute_result"
        }
      ],
      "source": [
        "y_predicted.shape"
      ]
    },
    {
      "cell_type": "code",
      "execution_count": 78,
      "metadata": {
        "colab": {
          "base_uri": "https://localhost:8080/"
        },
        "id": "C7uiOVJzNegz",
        "outputId": "96ae48aa-dc8f-4c04-9d9c-dd3fd60144a0"
      },
      "outputs": [
        {
          "data": {
            "text/plain": [
              "array([0.40394973, 0.59066427, 0.45960503, 0.53500898, 0.52423698,\n",
              "       0.71813285, 0.82405745, 0.78815081, 0.79712747, 0.72351885,\n",
              "       0.78635548, 0.8491921 , 0.81508079, 0.85637343, 0.9497307 ,\n",
              "       0.95332136, 0.94614004, 1.        , 0.96947935])"
            ]
          },
          "execution_count": 78,
          "metadata": {},
          "output_type": "execute_result"
        }
      ],
      "source": [
        "y_test"
      ]
    },
    {
      "cell_type": "code",
      "execution_count": 79,
      "metadata": {
        "colab": {
          "base_uri": "https://localhost:8080/"
        },
        "id": "RSm1W-C7NgbO",
        "outputId": "cc036197-2893-4c4c-91ac-57924e48d7e7"
      },
      "outputs": [
        {
          "data": {
            "text/plain": [
              "array([[0.49695504],\n",
              "       [0.49802887],\n",
              "       [0.49949354],\n",
              "       [0.5015051 ],\n",
              "       [0.5041357 ],\n",
              "       [0.5073969 ],\n",
              "       [0.5114081 ],\n",
              "       [0.5163616 ],\n",
              "       [0.52223057],\n",
              "       [0.5292359 ],\n",
              "       [0.5370243 ],\n",
              "       [0.54560226],\n",
              "       [0.5552874 ],\n",
              "       [0.5659436 ],\n",
              "       [0.57733953],\n",
              "       [0.5893928 ],\n",
              "       [0.60195917],\n",
              "       [0.61523354],\n",
              "       [0.62887114]], dtype=float32)"
            ]
          },
          "execution_count": 79,
          "metadata": {},
          "output_type": "execute_result"
        }
      ],
      "source": [
        "y_predicted"
      ]
    },
    {
      "cell_type": "code",
      "execution_count": 80,
      "metadata": {
        "colab": {
          "base_uri": "https://localhost:8080/"
        },
        "id": "SRlmIdH3Nh01",
        "outputId": "53cf7874-2f1a-4a8f-badd-2a477b0e743b"
      },
      "outputs": [
        {
          "data": {
            "text/plain": [
              "array([0.03590664])"
            ]
          },
          "execution_count": 80,
          "metadata": {},
          "output_type": "execute_result"
        }
      ],
      "source": [
        "# Inverse Scaling them again\n",
        "\n",
        "scaler.scale_"
      ]
    },
    {
      "cell_type": "code",
      "execution_count": 81,
      "metadata": {
        "id": "H_MuP3W_SzIm"
      },
      "outputs": [],
      "source": [
        "scale_factor = 1/0.03590664\n",
        "y_predicted = y_predicted * scale_factor\n",
        "y_test = y_test * scale_factor"
      ]
    },
    {
      "cell_type": "code",
      "execution_count": 82,
      "metadata": {
        "colab": {
          "base_uri": "https://localhost:8080/",
          "height": 542
        },
        "id": "YDBTiKWJTL7B",
        "outputId": "63547611-b328-4c87-82f8-7a453d521ece"
      },
      "outputs": [
        {
          "data": {
            "image/png": "[encoded data removed]",
            "text/plain": [
              "<Figure size 1200x600 with 1 Axes>"
            ]
          },
          "metadata": {},
          "output_type": "display_data"
        }
      ],
      "source": [
        "plt.figure(figsize = (12, 6))\n",
        "plt.plot(y_test, 'b', label = \"Original Price\")\n",
        "plt.plot(y_predicted, 'r', label = \"Predcited Price\")\n",
        "plt.xlabel('Time')\n",
        "plt.ylabel('Exchange Rate')\n",
        "plt.legend()\n",
        "plt.show()"
      ]
    }
  ],
  "metadata": {
    "colab": {
      "provenance": []
    },
    "kernelspec": {
      "display_name": "Python 3",
      "name": "python3"
    },
    "language_info": {
      "codemirror_mode": {
        "name": "ipython",
        "version": 3
      },
      "file_extension": ".py",
      "mimetype": "text/x-python",
      "name": "python",
      "nbconvert_exporter": "python",
      "pygments_lexer": "ipython3",
      "version": "3.12.2"
    }
  },
  "nbformat": 4,
  "nbformat_minor": 0
}
